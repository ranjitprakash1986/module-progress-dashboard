{
 "cells": [
  {
   "cell_type": "markdown",
   "id": "3335ec56-c5dc-4a03-9415-e5d40f988cd9",
   "metadata": {},
   "source": [
    "# Objective\n",
    "\n",
    "The objective of this notebook is to understand the metrics in the sample_tableau_data file of module-progress\n",
    "\n",
    "\n",
    "* Improve the code by referecing with IDs wherever necessary\n",
    "* Transfer the code to a dash app\n",
    "* Remove/Add the labels from the plots where necessary\n",
    "* Improve dashboard aesthetics"
   ]
  },
  {
   "cell_type": "code",
   "execution_count": 1,
   "id": "93c72147-c039-496f-ae6a-9ba6cc3d725c",
   "metadata": {},
   "outputs": [],
   "source": [
    "import pandas as pd\n",
    "import numpy as np\n",
    "import plotly.express as px\n",
    "import plotly.io as pio\n",
    "import plotly.graph_objects as go\n",
    "from plotly.subplots import make_subplots\n",
    "import re\n",
    "\n",
    "\n",
    "from collections import defaultdict\n",
    "\n",
    "from datetime import *\n",
    "import datetime\n",
    "pio.renderers.default='iframe'"
   ]
  },
  {
   "cell_type": "code",
   "execution_count": 2,
   "id": "f84f1df4-ab46-4553-95da-f69ca8e0828a",
   "metadata": {},
   "outputs": [],
   "source": [
    "data = pd.read_csv('../data/SAMPLE_module_data.csv')"
   ]
  },
  {
   "cell_type": "code",
   "execution_count": 3,
   "id": "7f24a448-2bb3-4486-818f-3e7278083a3b",
   "metadata": {},
   "outputs": [
    {
     "data": {
      "text/html": [
       "<div>\n",
       "<style scoped>\n",
       "    .dataframe tbody tr th:only-of-type {\n",
       "        vertical-align: middle;\n",
       "    }\n",
       "\n",
       "    .dataframe tbody tr th {\n",
       "        vertical-align: top;\n",
       "    }\n",
       "\n",
       "    .dataframe thead th {\n",
       "        text-align: right;\n",
       "    }\n",
       "</style>\n",
       "<table border=\"1\" class=\"dataframe\">\n",
       "  <thead>\n",
       "    <tr style=\"text-align: right;\">\n",
       "      <th></th>\n",
       "      <th>Unnamed: 0</th>\n",
       "      <th>completed_at</th>\n",
       "      <th>course_id</th>\n",
       "      <th>module_id</th>\n",
       "      <th>items_count</th>\n",
       "      <th>module_name</th>\n",
       "      <th>module_position</th>\n",
       "      <th>state</th>\n",
       "      <th>unlock_at</th>\n",
       "      <th>student_id</th>\n",
       "      <th>student_name</th>\n",
       "      <th>items_id</th>\n",
       "      <th>items_title</th>\n",
       "      <th>items_position</th>\n",
       "      <th>items_indent</th>\n",
       "      <th>items_type</th>\n",
       "      <th>items_module_id</th>\n",
       "      <th>item_cp_req_type</th>\n",
       "      <th>item_cp_req_completed</th>\n",
       "      <th>course_name</th>\n",
       "    </tr>\n",
       "  </thead>\n",
       "  <tbody>\n",
       "    <tr>\n",
       "      <th>0</th>\n",
       "      <td>0</td>\n",
       "      <td>2019-06-25 22:29</td>\n",
       "      <td>2591</td>\n",
       "      <td>8135</td>\n",
       "      <td>3</td>\n",
       "      <td>Module 1: Course Introduction</td>\n",
       "      <td>1</td>\n",
       "      <td>completed</td>\n",
       "      <td>NaN</td>\n",
       "      <td>1001</td>\n",
       "      <td>student01</td>\n",
       "      <td>85224</td>\n",
       "      <td>Introduction Text</td>\n",
       "      <td>1</td>\n",
       "      <td>0</td>\n",
       "      <td>Page</td>\n",
       "      <td>8135</td>\n",
       "      <td>must_mark_done</td>\n",
       "      <td>True</td>\n",
       "      <td>Canvas-Sandbox-Course</td>\n",
       "    </tr>\n",
       "    <tr>\n",
       "      <th>1</th>\n",
       "      <td>1</td>\n",
       "      <td>2019-06-25 22:29</td>\n",
       "      <td>2591</td>\n",
       "      <td>8135</td>\n",
       "      <td>3</td>\n",
       "      <td>Module 1: Course Introduction</td>\n",
       "      <td>1</td>\n",
       "      <td>completed</td>\n",
       "      <td>NaN</td>\n",
       "      <td>1001</td>\n",
       "      <td>student01</td>\n",
       "      <td>85225</td>\n",
       "      <td>Important Info Moving Foreward</td>\n",
       "      <td>2</td>\n",
       "      <td>0</td>\n",
       "      <td>Page</td>\n",
       "      <td>8135</td>\n",
       "      <td>must_mark_done</td>\n",
       "      <td>True</td>\n",
       "      <td>Canvas-Sandbox-Course</td>\n",
       "    </tr>\n",
       "    <tr>\n",
       "      <th>2</th>\n",
       "      <td>2</td>\n",
       "      <td>2019-06-25 22:29</td>\n",
       "      <td>2591</td>\n",
       "      <td>8135</td>\n",
       "      <td>3</td>\n",
       "      <td>Module 1: Course Introduction</td>\n",
       "      <td>1</td>\n",
       "      <td>completed</td>\n",
       "      <td>NaN</td>\n",
       "      <td>1001</td>\n",
       "      <td>student01</td>\n",
       "      <td>85262</td>\n",
       "      <td>Quiz 1 - Past Experience</td>\n",
       "      <td>3</td>\n",
       "      <td>1</td>\n",
       "      <td>Quiz</td>\n",
       "      <td>8135</td>\n",
       "      <td>must_submit</td>\n",
       "      <td>True</td>\n",
       "      <td>Canvas-Sandbox-Course</td>\n",
       "    </tr>\n",
       "    <tr>\n",
       "      <th>3</th>\n",
       "      <td>3</td>\n",
       "      <td>NaN</td>\n",
       "      <td>2591</td>\n",
       "      <td>8136</td>\n",
       "      <td>4</td>\n",
       "      <td>Module 2: How to Design Data</td>\n",
       "      <td>2</td>\n",
       "      <td>started</td>\n",
       "      <td>NaN</td>\n",
       "      <td>1001</td>\n",
       "      <td>student01</td>\n",
       "      <td>85263</td>\n",
       "      <td>Designing Data</td>\n",
       "      <td>1</td>\n",
       "      <td>0</td>\n",
       "      <td>Page</td>\n",
       "      <td>8136</td>\n",
       "      <td>must_view</td>\n",
       "      <td>False</td>\n",
       "      <td>Canvas-Sandbox-Course</td>\n",
       "    </tr>\n",
       "    <tr>\n",
       "      <th>4</th>\n",
       "      <td>4</td>\n",
       "      <td>NaN</td>\n",
       "      <td>2591</td>\n",
       "      <td>8136</td>\n",
       "      <td>4</td>\n",
       "      <td>Module 2: How to Design Data</td>\n",
       "      <td>2</td>\n",
       "      <td>started</td>\n",
       "      <td>NaN</td>\n",
       "      <td>1001</td>\n",
       "      <td>student01</td>\n",
       "      <td>85228</td>\n",
       "      <td>Talk About It.</td>\n",
       "      <td>2</td>\n",
       "      <td>0</td>\n",
       "      <td>Discussion</td>\n",
       "      <td>8136</td>\n",
       "      <td>must_contribute</td>\n",
       "      <td>True</td>\n",
       "      <td>Canvas-Sandbox-Course</td>\n",
       "    </tr>\n",
       "  </tbody>\n",
       "</table>\n",
       "</div>"
      ],
      "text/plain": [
       "   Unnamed: 0      completed_at  course_id  module_id  items_count   \n",
       "0           0  2019-06-25 22:29       2591       8135            3  \\\n",
       "1           1  2019-06-25 22:29       2591       8135            3   \n",
       "2           2  2019-06-25 22:29       2591       8135            3   \n",
       "3           3               NaN       2591       8136            4   \n",
       "4           4               NaN       2591       8136            4   \n",
       "\n",
       "                     module_name  module_position      state  unlock_at   \n",
       "0  Module 1: Course Introduction                1  completed        NaN  \\\n",
       "1  Module 1: Course Introduction                1  completed        NaN   \n",
       "2  Module 1: Course Introduction                1  completed        NaN   \n",
       "3   Module 2: How to Design Data                2    started        NaN   \n",
       "4   Module 2: How to Design Data                2    started        NaN   \n",
       "\n",
       "   student_id student_name  items_id                     items_title   \n",
       "0        1001    student01     85224               Introduction Text  \\\n",
       "1        1001    student01     85225  Important Info Moving Foreward   \n",
       "2        1001    student01     85262        Quiz 1 - Past Experience   \n",
       "3        1001    student01     85263                  Designing Data   \n",
       "4        1001    student01     85228                  Talk About It.   \n",
       "\n",
       "   items_position  items_indent  items_type  items_module_id item_cp_req_type   \n",
       "0               1             0        Page             8135   must_mark_done  \\\n",
       "1               2             0        Page             8135   must_mark_done   \n",
       "2               3             1        Quiz             8135      must_submit   \n",
       "3               1             0        Page             8136        must_view   \n",
       "4               2             0  Discussion             8136  must_contribute   \n",
       "\n",
       "  item_cp_req_completed            course_name  \n",
       "0                  True  Canvas-Sandbox-Course  \n",
       "1                  True  Canvas-Sandbox-Course  \n",
       "2                  True  Canvas-Sandbox-Course  \n",
       "3                 False  Canvas-Sandbox-Course  \n",
       "4                  True  Canvas-Sandbox-Course  "
      ]
     },
     "execution_count": 3,
     "metadata": {},
     "output_type": "execute_result"
    }
   ],
   "source": [
    "data.head()"
   ]
  },
  {
   "cell_type": "code",
   "execution_count": 4,
   "id": "b7226a47-ea1b-49a3-baa6-021e80abc94f",
   "metadata": {},
   "outputs": [
    {
     "data": {
      "text/plain": [
       "Index(['Unnamed: 0', 'completed_at', 'course_id', 'module_id', 'items_count',\n",
       "       'module_name', 'module_position', 'state', 'unlock_at', 'student_id',\n",
       "       'student_name', 'items_id', 'items_title', 'items_position',\n",
       "       'items_indent', 'items_type', 'items_module_id', 'item_cp_req_type',\n",
       "       'item_cp_req_completed', 'course_name'],\n",
       "      dtype='object')"
      ]
     },
     "execution_count": 4,
     "metadata": {},
     "output_type": "execute_result"
    }
   ],
   "source": [
    "data.columns"
   ]
  },
  {
   "cell_type": "code",
   "execution_count": 5,
   "id": "c0078f18-78c3-4f9f-8ed0-0893875eefac",
   "metadata": {},
   "outputs": [],
   "source": [
    "categorical_cols = ['course_id',\n",
    "                   'module_id',\n",
    "                   'module_name',\n",
    "                   'state',\n",
    "                   'student_id',\n",
    "                   'student_name',\n",
    "                   'items_id',\n",
    "                   'items_title',\n",
    "                   'items_type',\n",
    "                   'items_module_id',\n",
    "                   'item_cp_req_type',\n",
    "                   'item_cp_req_completed',\n",
    "                   'course_name']"
   ]
  },
  {
   "cell_type": "code",
   "execution_count": 6,
   "id": "69a4c411-a1b2-4757-880a-3892c20fc972",
   "metadata": {},
   "outputs": [],
   "source": [
    "# convert the timestamp to datetime format\n",
    "# fix the column data types\n",
    "data['completed_at'] = pd.to_datetime(data['completed_at'])\n",
    "for col in categorical_cols:\n",
    "    data[col] = data[col].astype('category')"
   ]
  },
  {
   "cell_type": "code",
   "execution_count": 7,
   "id": "c88a79f6-bf71-438d-8746-15aea935eb2c",
   "metadata": {},
   "outputs": [
    {
     "name": "stdout",
     "output_type": "stream",
     "text": [
      "<class 'pandas.core.frame.DataFrame'>\n",
      "RangeIndex: 420 entries, 0 to 419\n",
      "Data columns (total 20 columns):\n",
      " #   Column                 Non-Null Count  Dtype         \n",
      "---  ------                 --------------  -----         \n",
      " 0   Unnamed: 0             420 non-null    int64         \n",
      " 1   completed_at           103 non-null    datetime64[ns]\n",
      " 2   course_id              420 non-null    category      \n",
      " 3   module_id              420 non-null    category      \n",
      " 4   items_count            420 non-null    int64         \n",
      " 5   module_name            420 non-null    category      \n",
      " 6   module_position        420 non-null    int64         \n",
      " 7   state                  420 non-null    category      \n",
      " 8   unlock_at              0 non-null      float64       \n",
      " 9   student_id             420 non-null    category      \n",
      " 10  student_name           420 non-null    category      \n",
      " 11  items_id               420 non-null    category      \n",
      " 12  items_title            420 non-null    category      \n",
      " 13  items_position         420 non-null    int64         \n",
      " 14  items_indent           420 non-null    int64         \n",
      " 15  items_type             420 non-null    category      \n",
      " 16  items_module_id        420 non-null    category      \n",
      " 17  item_cp_req_type       399 non-null    category      \n",
      " 18  item_cp_req_completed  399 non-null    category      \n",
      " 19  course_name            420 non-null    category      \n",
      "dtypes: category(13), datetime64[ns](1), float64(1), int64(5)\n",
      "memory usage: 32.7 KB\n"
     ]
    }
   ],
   "source": [
    "data.info()"
   ]
  },
  {
   "cell_type": "code",
   "execution_count": 8,
   "id": "ff38bcf6-f77e-4e86-8f79-c1b2351d2bb7",
   "metadata": {},
   "outputs": [
    {
     "data": {
      "text/plain": [
       "Index(['completed_at', 'course_id', 'module_id', 'items_count', 'module_name',\n",
       "       'module_position', 'state', 'unlock_at', 'student_id', 'student_name',\n",
       "       'items_id', 'items_title', 'items_position', 'items_indent',\n",
       "       'items_type', 'items_module_id', 'item_cp_req_type',\n",
       "       'item_cp_req_completed', 'course_name'],\n",
       "      dtype='object')"
      ]
     },
     "execution_count": 8,
     "metadata": {},
     "output_type": "execute_result"
    }
   ],
   "source": [
    "# Drop the unwanted columns\n",
    "data = data.loc[:, ~data.columns.str.contains('^Unnamed')]\n",
    "data.columns"
   ]
  },
  {
   "cell_type": "markdown",
   "id": "cd71c3b0-2151-4263-bece-fa167ae912c0",
   "metadata": {
    "tags": []
   },
   "source": [
    "## Demo Dashboard"
   ]
  },
  {
   "cell_type": "markdown",
   "id": "c03c3b03-275f-4faf-b83b-8f8038a07837",
   "metadata": {},
   "source": [
    "### Tab - Student Module Completion over time"
   ]
  },
  {
   "cell_type": "markdown",
   "id": "d1a81e65-73ea-4a71-b9f1-6fe0d9d667dc",
   "metadata": {},
   "source": [
    "### Dictionaries"
   ]
  },
  {
   "cell_type": "code",
   "execution_count": 9,
   "id": "e7e7cf3f-7afb-4304-8c59-8b687cbdc382",
   "metadata": {},
   "outputs": [],
   "source": [
    "# Make a dictionary of module id and module names\n",
    "module_dict, item_dict, course_dict, student_dict = (defaultdict(str) for _ in range(4))\n",
    "\n",
    "for _,row in data.iterrows():\n",
    "    module_dict[str(row['module_id'])] = re.sub(r'^Module\\s+\\d+:\\s+', \"\", row['module_name'])\n",
    "    item_dict[str(row['items_module_id'])] = row['items_title']\n",
    "    course_dict[str(row['course_id'])] = row['course_name']\n",
    "    student_dict[str(row['student_id'])] = row['student_name']"
   ]
  },
  {
   "cell_type": "code",
   "execution_count": 10,
   "id": "ab0a7b12-65e6-413e-b57f-845040f70982",
   "metadata": {},
   "outputs": [
    {
     "data": {
      "text/plain": [
       "dict_keys(['8135', '8136', '8137', '8169', '8170', '8171'])"
      ]
     },
     "execution_count": 10,
     "metadata": {},
     "output_type": "execute_result"
    }
   ],
   "source": [
    "module_dict.keys()"
   ]
  },
  {
   "cell_type": "code",
   "execution_count": 11,
   "id": "4993acaa-27c0-4593-89c4-0e589c920180",
   "metadata": {},
   "outputs": [
    {
     "data": {
      "text/plain": [
       "dict_keys(['8135', '8136', '8137', '8169', '8170', '8171'])"
      ]
     },
     "execution_count": 11,
     "metadata": {},
     "output_type": "execute_result"
    }
   ],
   "source": [
    "item_dict.keys()"
   ]
  },
  {
   "cell_type": "code",
   "execution_count": 12,
   "id": "b1c65573-7f8a-4e71-bce1-d4f3860aa00c",
   "metadata": {},
   "outputs": [
    {
     "data": {
      "text/plain": [
       "dict_keys(['2591'])"
      ]
     },
     "execution_count": 12,
     "metadata": {},
     "output_type": "execute_result"
    }
   ],
   "source": [
    "course_dict.keys()"
   ]
  },
  {
   "cell_type": "code",
   "execution_count": 13,
   "id": "bdc5d0a2-881f-48e4-b743-86eb6dca8c3f",
   "metadata": {},
   "outputs": [
    {
     "data": {
      "text/plain": [
       "dict_keys(['1001', '1002', '1003', '1004', '1005', '1010', '1011', '1012', '1013', '1014', '1015', '1016', '1017', '1018', '1019', '1020', '1021', '1022', '1023', '1024', '1025'])"
      ]
     },
     "execution_count": 13,
     "metadata": {},
     "output_type": "execute_result"
    }
   ],
   "source": [
    "student_dict.keys()"
   ]
  },
  {
   "cell_type": "code",
   "execution_count": 14,
   "id": "6cde6674-3611-4e74-ade0-ab8706980dc1",
   "metadata": {},
   "outputs": [
    {
     "data": {
      "text/plain": [
       "'Course Introduction'"
      ]
     },
     "execution_count": 14,
     "metadata": {},
     "output_type": "execute_result"
    }
   ],
   "source": [
    "module_dict.get('8135')"
   ]
  },
  {
   "cell_type": "code",
   "execution_count": 15,
   "id": "fb8e51b9-4b47-4ba2-8183-71820f189d40",
   "metadata": {},
   "outputs": [
    {
     "name": "stdout",
     "output_type": "stream",
     "text": [
      "Total number of students engaged (start/completed) Course Introduction: 21\n",
      "Number of students completed Course Introduction: 18\n",
      "Percentage of completion: 85.7%\n",
      "Percentage of started : 14.3%\n",
      "Percentage of unlocked : 0.0%\n",
      "====================================================================================================\n",
      "Total number of students engaged (start/completed) How to Design Data: 21\n",
      "Number of students completed How to Design Data: 4\n",
      "Percentage of completion: 19.0%\n",
      "Percentage of started : 66.7%\n",
      "Percentage of unlocked : 14.3%\n",
      "====================================================================================================\n",
      "Total number of students engaged (start/completed) How to Design Functions: 21\n",
      "Number of students completed How to Design Functions: 5\n",
      "Percentage of completion: 23.8%\n",
      "Percentage of started : 28.6%\n",
      "Percentage of unlocked : 47.6%\n",
      "====================================================================================================\n",
      "Total number of students engaged (start/completed) Intro to Object Orientation: 21\n",
      "Number of students completed Intro to Object Orientation: 3\n",
      "Percentage of completion: 14.3%\n",
      "Percentage of started : 14.3%\n",
      "Percentage of unlocked : 71.4%\n",
      "====================================================================================================\n",
      "Total number of students engaged (start/completed) Data Hierarchies: 21\n",
      "Number of students completed Data Hierarchies: 3\n",
      "Percentage of completion: 14.3%\n",
      "Percentage of started : 14.3%\n",
      "Percentage of unlocked : 71.4%\n",
      "====================================================================================================\n",
      "Total number of students engaged (start/completed) Designing Software: 21\n",
      "Number of students completed Designing Software: 0\n",
      "Percentage of completion: 0.0%\n",
      "Percentage of started : 33.3%\n",
      "Percentage of unlocked : 66.7%\n",
      "====================================================================================================\n"
     ]
    }
   ],
   "source": [
    "module_ids = list(module_dict.keys())\n",
    "\n",
    "for module in module_ids:\n",
    "    # Print Module Status\n",
    "    # print(module)\n",
    "    # number of student id related to Module\n",
    "    data_module = data[(data.module_id.astype(str) == module)]\n",
    "    # print(data_module.shape)\n",
    "    # print(data_module['student_id'].unique().size)\n",
    "\n",
    "    # number of students that have completed the Module\n",
    "    data_module[data_module.state == 'completed']['student_id'].unique().size\n",
    "\n",
    "    # number of students that have unlocked the Module 1\n",
    "    data_module[data_module.state == 'unlocked']['student_id'].unique().size\n",
    "\n",
    "    # number off students that have started the Module 1\n",
    "    data_module[data_module.state == 'started']['student_id'].unique().size\n",
    "\n",
    "\n",
    "    # display\n",
    "    print(f\"Total number of students engaged (start/completed) {module_dict.get(module)}: {data_module['student_id'].unique().size}\")\n",
    "    print(f\"Number of students completed {module_dict.get(module)}: {data_module[data_module.state == 'completed']['student_id'].unique().size}\")\n",
    "    \n",
    "    if (data_module['student_id'].unique().size == 0):\n",
    "        continue\n",
    "\n",
    "    print(f\"Percentage of completion: {round(data_module[data_module.state == 'completed']['student_id'].unique().size * 100 / data_module['student_id'].unique().size, 1)}%\")\n",
    "    print(f\"Percentage of started : {round(data_module[data_module.state == 'started']['student_id'].unique().size * 100 / data_module['student_id'].unique().size, 1)}%\")\n",
    "    print(f\"Percentage of unlocked : {round(data_module[data_module.state == 'unlocked']['student_id'].unique().size * 100 / data_module['student_id'].unique().size, 1)}%\")\n",
    "    print(\"=\"*100)\n",
    "\n"
   ]
  },
  {
   "cell_type": "code",
   "execution_count": 16,
   "id": "982c9e21-e053-4fd6-834d-3d3877e321d0",
   "metadata": {},
   "outputs": [],
   "source": [
    "## Functions\n",
    "\n",
    "def get_completed_percentage(df, module,state):\n",
    "    '''\n",
    "    returns the state percetage of module in df\n",
    "    '''\n",
    "    \n",
    "    df_module = df[df.module_id.astype(str) == module]\n",
    "    total_module_students = df_module.student_id.unique().size\n",
    "    percentage = df_module[df_module.state==state].student_id.unique().size / total_module_students \n",
    "    return percentage"
   ]
  },
  {
   "cell_type": "code",
   "execution_count": 17,
   "id": "7f56f23c-2485-47f8-8747-6d4fb84e33e8",
   "metadata": {},
   "outputs": [],
   "source": [
    "## To build a dashboard display with horizontal bars like in Tableau\n",
    "\n",
    "total_students = data.student_id.unique().size\n",
    "\n",
    "result = {}\n",
    "for module in module_dict.keys():\n",
    "    result[module_dict.get(module)] = [round(get_completed_percentage(data, module, 'unlocked')*100, 1), \n",
    "                           round(get_completed_percentage(data, module, 'started')*100, 1),\n",
    "                           round(get_completed_percentage(data, module, 'completed')*100, 1)]"
   ]
  },
  {
   "cell_type": "code",
   "execution_count": 18,
   "id": "e914dced-4f76-41f3-913b-897384a32133",
   "metadata": {},
   "outputs": [
    {
     "data": {
      "text/plain": [
       "{'Course Introduction': [0.0, 14.3, 85.7],\n",
       " 'How to Design Data': [14.3, 66.7, 19.0],\n",
       " 'How to Design Functions': [47.6, 28.6, 23.8],\n",
       " 'Intro to Object Orientation': [71.4, 14.3, 14.3],\n",
       " 'Data Hierarchies': [71.4, 14.3, 14.3],\n",
       " 'Designing Software': [66.7, 33.3, 0.0]}"
      ]
     },
     "execution_count": 18,
     "metadata": {},
     "output_type": "execute_result"
    }
   ],
   "source": [
    "result"
   ]
  },
  {
   "cell_type": "code",
   "execution_count": 19,
   "id": "6f616486-37f5-48ce-9242-389ff9fb6b09",
   "metadata": {},
   "outputs": [
    {
     "data": {
      "text/html": [
       "<div>\n",
       "<style scoped>\n",
       "    .dataframe tbody tr th:only-of-type {\n",
       "        vertical-align: middle;\n",
       "    }\n",
       "\n",
       "    .dataframe tbody tr th {\n",
       "        vertical-align: top;\n",
       "    }\n",
       "\n",
       "    .dataframe thead th {\n",
       "        text-align: right;\n",
       "    }\n",
       "</style>\n",
       "<table border=\"1\" class=\"dataframe\">\n",
       "  <thead>\n",
       "    <tr style=\"text-align: right;\">\n",
       "      <th></th>\n",
       "      <th>Module</th>\n",
       "      <th>Unlocked</th>\n",
       "      <th>Started</th>\n",
       "      <th>Completed</th>\n",
       "    </tr>\n",
       "  </thead>\n",
       "  <tbody>\n",
       "    <tr>\n",
       "      <th>0</th>\n",
       "      <td>Course Introduction</td>\n",
       "      <td>0.0</td>\n",
       "      <td>14.3</td>\n",
       "      <td>85.7</td>\n",
       "    </tr>\n",
       "    <tr>\n",
       "      <th>1</th>\n",
       "      <td>How to Design Data</td>\n",
       "      <td>14.3</td>\n",
       "      <td>66.7</td>\n",
       "      <td>19.0</td>\n",
       "    </tr>\n",
       "    <tr>\n",
       "      <th>2</th>\n",
       "      <td>How to Design Functions</td>\n",
       "      <td>47.6</td>\n",
       "      <td>28.6</td>\n",
       "      <td>23.8</td>\n",
       "    </tr>\n",
       "    <tr>\n",
       "      <th>3</th>\n",
       "      <td>Intro to Object Orientation</td>\n",
       "      <td>71.4</td>\n",
       "      <td>14.3</td>\n",
       "      <td>14.3</td>\n",
       "    </tr>\n",
       "    <tr>\n",
       "      <th>4</th>\n",
       "      <td>Data Hierarchies</td>\n",
       "      <td>71.4</td>\n",
       "      <td>14.3</td>\n",
       "      <td>14.3</td>\n",
       "    </tr>\n",
       "  </tbody>\n",
       "</table>\n",
       "</div>"
      ],
      "text/plain": [
       "                        Module  Unlocked  Started  Completed\n",
       "0          Course Introduction       0.0     14.3       85.7\n",
       "1           How to Design Data      14.3     66.7       19.0\n",
       "2      How to Design Functions      47.6     28.6       23.8\n",
       "3  Intro to Object Orientation      71.4     14.3       14.3\n",
       "4             Data Hierarchies      71.4     14.3       14.3"
      ]
     },
     "execution_count": 19,
     "metadata": {},
     "output_type": "execute_result"
    }
   ],
   "source": [
    "# convert this to a dataframe \n",
    "df = pd.DataFrame(result, index = ['Unlocked', 'Started', 'Completed']).T.reset_index().rename(columns={'index': 'Module'})\n",
    "df.head()"
   ]
  },
  {
   "cell_type": "markdown",
   "id": "fd8f7f99-9092-48ef-8fce-63a509888cfd",
   "metadata": {},
   "source": [
    "### Tab - Module Completion Chart"
   ]
  },
  {
   "cell_type": "code",
   "execution_count": 20,
   "id": "e38e2247-0172-4838-9457-b066905c8037",
   "metadata": {},
   "outputs": [],
   "source": [
    "# Melt the DataFrame to convert columns to rows\n",
    "melted_df = pd.melt(df, id_vars='Module', value_vars=['Unlocked', 'Started', 'Completed'],\n",
    "                    var_name='Status', value_name='Percentage Completion')\n"
   ]
  },
  {
   "cell_type": "code",
   "execution_count": 21,
   "id": "d1cb3ce3-4e07-49e9-b8ff-6342755016c0",
   "metadata": {},
   "outputs": [
    {
     "data": {
      "text/html": [
       "<div>\n",
       "<style scoped>\n",
       "    .dataframe tbody tr th:only-of-type {\n",
       "        vertical-align: middle;\n",
       "    }\n",
       "\n",
       "    .dataframe tbody tr th {\n",
       "        vertical-align: top;\n",
       "    }\n",
       "\n",
       "    .dataframe thead th {\n",
       "        text-align: right;\n",
       "    }\n",
       "</style>\n",
       "<table border=\"1\" class=\"dataframe\">\n",
       "  <thead>\n",
       "    <tr style=\"text-align: right;\">\n",
       "      <th></th>\n",
       "      <th>Module</th>\n",
       "      <th>Status</th>\n",
       "      <th>Percentage Completion</th>\n",
       "    </tr>\n",
       "  </thead>\n",
       "  <tbody>\n",
       "    <tr>\n",
       "      <th>0</th>\n",
       "      <td>Course Introduction</td>\n",
       "      <td>Unlocked</td>\n",
       "      <td>0.0</td>\n",
       "    </tr>\n",
       "    <tr>\n",
       "      <th>1</th>\n",
       "      <td>How to Design Data</td>\n",
       "      <td>Unlocked</td>\n",
       "      <td>14.3</td>\n",
       "    </tr>\n",
       "    <tr>\n",
       "      <th>2</th>\n",
       "      <td>How to Design Functions</td>\n",
       "      <td>Unlocked</td>\n",
       "      <td>47.6</td>\n",
       "    </tr>\n",
       "    <tr>\n",
       "      <th>3</th>\n",
       "      <td>Intro to Object Orientation</td>\n",
       "      <td>Unlocked</td>\n",
       "      <td>71.4</td>\n",
       "    </tr>\n",
       "    <tr>\n",
       "      <th>4</th>\n",
       "      <td>Data Hierarchies</td>\n",
       "      <td>Unlocked</td>\n",
       "      <td>71.4</td>\n",
       "    </tr>\n",
       "    <tr>\n",
       "      <th>5</th>\n",
       "      <td>Designing Software</td>\n",
       "      <td>Unlocked</td>\n",
       "      <td>66.7</td>\n",
       "    </tr>\n",
       "    <tr>\n",
       "      <th>6</th>\n",
       "      <td>Course Introduction</td>\n",
       "      <td>Started</td>\n",
       "      <td>14.3</td>\n",
       "    </tr>\n",
       "    <tr>\n",
       "      <th>7</th>\n",
       "      <td>How to Design Data</td>\n",
       "      <td>Started</td>\n",
       "      <td>66.7</td>\n",
       "    </tr>\n",
       "    <tr>\n",
       "      <th>8</th>\n",
       "      <td>How to Design Functions</td>\n",
       "      <td>Started</td>\n",
       "      <td>28.6</td>\n",
       "    </tr>\n",
       "    <tr>\n",
       "      <th>9</th>\n",
       "      <td>Intro to Object Orientation</td>\n",
       "      <td>Started</td>\n",
       "      <td>14.3</td>\n",
       "    </tr>\n",
       "    <tr>\n",
       "      <th>10</th>\n",
       "      <td>Data Hierarchies</td>\n",
       "      <td>Started</td>\n",
       "      <td>14.3</td>\n",
       "    </tr>\n",
       "    <tr>\n",
       "      <th>11</th>\n",
       "      <td>Designing Software</td>\n",
       "      <td>Started</td>\n",
       "      <td>33.3</td>\n",
       "    </tr>\n",
       "    <tr>\n",
       "      <th>12</th>\n",
       "      <td>Course Introduction</td>\n",
       "      <td>Completed</td>\n",
       "      <td>85.7</td>\n",
       "    </tr>\n",
       "    <tr>\n",
       "      <th>13</th>\n",
       "      <td>How to Design Data</td>\n",
       "      <td>Completed</td>\n",
       "      <td>19.0</td>\n",
       "    </tr>\n",
       "    <tr>\n",
       "      <th>14</th>\n",
       "      <td>How to Design Functions</td>\n",
       "      <td>Completed</td>\n",
       "      <td>23.8</td>\n",
       "    </tr>\n",
       "    <tr>\n",
       "      <th>15</th>\n",
       "      <td>Intro to Object Orientation</td>\n",
       "      <td>Completed</td>\n",
       "      <td>14.3</td>\n",
       "    </tr>\n",
       "    <tr>\n",
       "      <th>16</th>\n",
       "      <td>Data Hierarchies</td>\n",
       "      <td>Completed</td>\n",
       "      <td>14.3</td>\n",
       "    </tr>\n",
       "    <tr>\n",
       "      <th>17</th>\n",
       "      <td>Designing Software</td>\n",
       "      <td>Completed</td>\n",
       "      <td>0.0</td>\n",
       "    </tr>\n",
       "  </tbody>\n",
       "</table>\n",
       "</div>"
      ],
      "text/plain": [
       "                         Module     Status  Percentage Completion\n",
       "0           Course Introduction   Unlocked                    0.0\n",
       "1            How to Design Data   Unlocked                   14.3\n",
       "2       How to Design Functions   Unlocked                   47.6\n",
       "3   Intro to Object Orientation   Unlocked                   71.4\n",
       "4              Data Hierarchies   Unlocked                   71.4\n",
       "5            Designing Software   Unlocked                   66.7\n",
       "6           Course Introduction    Started                   14.3\n",
       "7            How to Design Data    Started                   66.7\n",
       "8       How to Design Functions    Started                   28.6\n",
       "9   Intro to Object Orientation    Started                   14.3\n",
       "10             Data Hierarchies    Started                   14.3\n",
       "11           Designing Software    Started                   33.3\n",
       "12          Course Introduction  Completed                   85.7\n",
       "13           How to Design Data  Completed                   19.0\n",
       "14      How to Design Functions  Completed                   23.8\n",
       "15  Intro to Object Orientation  Completed                   14.3\n",
       "16             Data Hierarchies  Completed                   14.3\n",
       "17           Designing Software  Completed                    0.0"
      ]
     },
     "execution_count": 21,
     "metadata": {},
     "output_type": "execute_result"
    }
   ],
   "source": [
    "melted_df"
   ]
  },
  {
   "cell_type": "code",
   "execution_count": 22,
   "id": "8c235a1d-7d10-401f-a677-fb565e5c240f",
   "metadata": {},
   "outputs": [
    {
     "data": {
      "text/plain": [
       "['Course Introduction',\n",
       " 'How to Design Data',\n",
       " 'How to Design Functions',\n",
       " 'Intro to Object Orientation',\n",
       " 'Data Hierarchies',\n",
       " 'Designing Software']"
      ]
     },
     "execution_count": 22,
     "metadata": {},
     "output_type": "execute_result"
    }
   ],
   "source": [
    "melted_df[\"Module\"].unique().tolist()"
   ]
  },
  {
   "cell_type": "code",
   "execution_count": 23,
   "id": "3c4a67e8-cc91-417d-baea-15733dc92ecf",
   "metadata": {},
   "outputs": [
    {
     "data": {
      "text/html": [
       "<iframe\n",
       "    scrolling=\"no\"\n",
       "    width=\"100%\"\n",
       "    height=\"545px\"\n",
       "    src=\"iframe_figures/figure_23.html\"\n",
       "    frameborder=\"0\"\n",
       "    allowfullscreen\n",
       "></iframe>\n"
      ]
     },
     "metadata": {},
     "output_type": "display_data"
    }
   ],
   "source": [
    "# Create a horizontal bar chart using Plotly\n",
    "fig = px.bar(melted_df, y='Module', x='Percentage Completion', color='Status', orientation='h',\n",
    "             labels={'Percentage Completion': 'Percentage Completion (%)'},\n",
    "             title='Percentage Completion by Students for Each Module',\n",
    "            category_orders={'Module': sorted(melted_df['Module'].unique())})\n",
    "\n",
    "fig.show()"
   ]
  },
  {
   "cell_type": "code",
   "execution_count": 24,
   "id": "6346b53e-3acb-4851-b7be-296813606c18",
   "metadata": {},
   "outputs": [
    {
     "data": {
      "text/html": [
       "<div>\n",
       "<style scoped>\n",
       "    .dataframe tbody tr th:only-of-type {\n",
       "        vertical-align: middle;\n",
       "    }\n",
       "\n",
       "    .dataframe tbody tr th {\n",
       "        vertical-align: top;\n",
       "    }\n",
       "\n",
       "    .dataframe thead th {\n",
       "        text-align: right;\n",
       "    }\n",
       "</style>\n",
       "<table border=\"1\" class=\"dataframe\">\n",
       "  <thead>\n",
       "    <tr style=\"text-align: right;\">\n",
       "      <th></th>\n",
       "      <th>completed_at</th>\n",
       "      <th>course_id</th>\n",
       "      <th>module_id</th>\n",
       "      <th>items_count</th>\n",
       "      <th>module_name</th>\n",
       "      <th>module_position</th>\n",
       "      <th>state</th>\n",
       "      <th>unlock_at</th>\n",
       "      <th>student_id</th>\n",
       "      <th>student_name</th>\n",
       "      <th>items_id</th>\n",
       "      <th>items_title</th>\n",
       "      <th>items_position</th>\n",
       "      <th>items_indent</th>\n",
       "      <th>items_type</th>\n",
       "      <th>items_module_id</th>\n",
       "      <th>item_cp_req_type</th>\n",
       "      <th>item_cp_req_completed</th>\n",
       "      <th>course_name</th>\n",
       "    </tr>\n",
       "  </thead>\n",
       "  <tbody>\n",
       "    <tr>\n",
       "      <th>0</th>\n",
       "      <td>2019-06-25 22:29:00</td>\n",
       "      <td>2591</td>\n",
       "      <td>8135</td>\n",
       "      <td>3</td>\n",
       "      <td>Module 1: Course Introduction</td>\n",
       "      <td>1</td>\n",
       "      <td>completed</td>\n",
       "      <td>NaN</td>\n",
       "      <td>1001</td>\n",
       "      <td>student01</td>\n",
       "      <td>85224</td>\n",
       "      <td>Introduction Text</td>\n",
       "      <td>1</td>\n",
       "      <td>0</td>\n",
       "      <td>Page</td>\n",
       "      <td>8135</td>\n",
       "      <td>must_mark_done</td>\n",
       "      <td>True</td>\n",
       "      <td>Canvas-Sandbox-Course</td>\n",
       "    </tr>\n",
       "    <tr>\n",
       "      <th>1</th>\n",
       "      <td>2019-06-25 22:29:00</td>\n",
       "      <td>2591</td>\n",
       "      <td>8135</td>\n",
       "      <td>3</td>\n",
       "      <td>Module 1: Course Introduction</td>\n",
       "      <td>1</td>\n",
       "      <td>completed</td>\n",
       "      <td>NaN</td>\n",
       "      <td>1001</td>\n",
       "      <td>student01</td>\n",
       "      <td>85225</td>\n",
       "      <td>Important Info Moving Foreward</td>\n",
       "      <td>2</td>\n",
       "      <td>0</td>\n",
       "      <td>Page</td>\n",
       "      <td>8135</td>\n",
       "      <td>must_mark_done</td>\n",
       "      <td>True</td>\n",
       "      <td>Canvas-Sandbox-Course</td>\n",
       "    </tr>\n",
       "    <tr>\n",
       "      <th>2</th>\n",
       "      <td>2019-06-25 22:29:00</td>\n",
       "      <td>2591</td>\n",
       "      <td>8135</td>\n",
       "      <td>3</td>\n",
       "      <td>Module 1: Course Introduction</td>\n",
       "      <td>1</td>\n",
       "      <td>completed</td>\n",
       "      <td>NaN</td>\n",
       "      <td>1001</td>\n",
       "      <td>student01</td>\n",
       "      <td>85262</td>\n",
       "      <td>Quiz 1 - Past Experience</td>\n",
       "      <td>3</td>\n",
       "      <td>1</td>\n",
       "      <td>Quiz</td>\n",
       "      <td>8135</td>\n",
       "      <td>must_submit</td>\n",
       "      <td>True</td>\n",
       "      <td>Canvas-Sandbox-Course</td>\n",
       "    </tr>\n",
       "    <tr>\n",
       "      <th>3</th>\n",
       "      <td>NaT</td>\n",
       "      <td>2591</td>\n",
       "      <td>8136</td>\n",
       "      <td>4</td>\n",
       "      <td>Module 2: How to Design Data</td>\n",
       "      <td>2</td>\n",
       "      <td>started</td>\n",
       "      <td>NaN</td>\n",
       "      <td>1001</td>\n",
       "      <td>student01</td>\n",
       "      <td>85263</td>\n",
       "      <td>Designing Data</td>\n",
       "      <td>1</td>\n",
       "      <td>0</td>\n",
       "      <td>Page</td>\n",
       "      <td>8136</td>\n",
       "      <td>must_view</td>\n",
       "      <td>False</td>\n",
       "      <td>Canvas-Sandbox-Course</td>\n",
       "    </tr>\n",
       "    <tr>\n",
       "      <th>4</th>\n",
       "      <td>NaT</td>\n",
       "      <td>2591</td>\n",
       "      <td>8136</td>\n",
       "      <td>4</td>\n",
       "      <td>Module 2: How to Design Data</td>\n",
       "      <td>2</td>\n",
       "      <td>started</td>\n",
       "      <td>NaN</td>\n",
       "      <td>1001</td>\n",
       "      <td>student01</td>\n",
       "      <td>85228</td>\n",
       "      <td>Talk About It.</td>\n",
       "      <td>2</td>\n",
       "      <td>0</td>\n",
       "      <td>Discussion</td>\n",
       "      <td>8136</td>\n",
       "      <td>must_contribute</td>\n",
       "      <td>True</td>\n",
       "      <td>Canvas-Sandbox-Course</td>\n",
       "    </tr>\n",
       "  </tbody>\n",
       "</table>\n",
       "</div>"
      ],
      "text/plain": [
       "         completed_at course_id module_id  items_count   \n",
       "0 2019-06-25 22:29:00      2591      8135            3  \\\n",
       "1 2019-06-25 22:29:00      2591      8135            3   \n",
       "2 2019-06-25 22:29:00      2591      8135            3   \n",
       "3                 NaT      2591      8136            4   \n",
       "4                 NaT      2591      8136            4   \n",
       "\n",
       "                     module_name  module_position      state  unlock_at   \n",
       "0  Module 1: Course Introduction                1  completed        NaN  \\\n",
       "1  Module 1: Course Introduction                1  completed        NaN   \n",
       "2  Module 1: Course Introduction                1  completed        NaN   \n",
       "3   Module 2: How to Design Data                2    started        NaN   \n",
       "4   Module 2: How to Design Data                2    started        NaN   \n",
       "\n",
       "  student_id student_name items_id                     items_title   \n",
       "0       1001    student01    85224               Introduction Text  \\\n",
       "1       1001    student01    85225  Important Info Moving Foreward   \n",
       "2       1001    student01    85262        Quiz 1 - Past Experience   \n",
       "3       1001    student01    85263                  Designing Data   \n",
       "4       1001    student01    85228                  Talk About It.   \n",
       "\n",
       "   items_position  items_indent  items_type items_module_id item_cp_req_type   \n",
       "0               1             0        Page            8135   must_mark_done  \\\n",
       "1               2             0        Page            8135   must_mark_done   \n",
       "2               3             1        Quiz            8135      must_submit   \n",
       "3               1             0        Page            8136        must_view   \n",
       "4               2             0  Discussion            8136  must_contribute   \n",
       "\n",
       "  item_cp_req_completed            course_name  \n",
       "0                  True  Canvas-Sandbox-Course  \n",
       "1                  True  Canvas-Sandbox-Course  \n",
       "2                  True  Canvas-Sandbox-Course  \n",
       "3                 False  Canvas-Sandbox-Course  \n",
       "4                  True  Canvas-Sandbox-Course  "
      ]
     },
     "execution_count": 24,
     "metadata": {},
     "output_type": "execute_result"
    }
   ],
   "source": [
    "data.head()"
   ]
  },
  {
   "cell_type": "code",
   "execution_count": 25,
   "id": "b3550632-042b-4e0a-8af9-181a6a036168",
   "metadata": {},
   "outputs": [],
   "source": [
    "start_date=\"2019-06-15\"\n",
    "end_date=\"2019-07-15\""
   ]
  },
  {
   "cell_type": "code",
   "execution_count": 26,
   "id": "041128f2-02a1-4ed9-a615-3f9b072a7c0a",
   "metadata": {},
   "outputs": [],
   "source": [
    "result_time = pd.DataFrame(columns=[\"Date\", \"Module\", \"Percentage Completion\"])"
   ]
  },
  {
   "cell_type": "code",
   "execution_count": 27,
   "id": "7abc5f8c-2e97-43e8-93dd-8e9e98b4d761",
   "metadata": {},
   "outputs": [
    {
     "data": {
      "text/plain": [
       "str"
      ]
     },
     "execution_count": 27,
     "metadata": {},
     "output_type": "execute_result"
    }
   ],
   "source": [
    "type(start_date)"
   ]
  },
  {
   "cell_type": "code",
   "execution_count": 28,
   "id": "5b6b06a4-d826-42fe-9162-f8a02d4934ae",
   "metadata": {},
   "outputs": [
    {
     "data": {
      "text/plain": [
       "datetime.date"
      ]
     },
     "execution_count": 28,
     "metadata": {},
     "output_type": "execute_result"
    }
   ],
   "source": [
    "type(datetime.datetime.strptime(start_date, \"%Y-%m-%d\").date())"
   ]
  },
  {
   "cell_type": "code",
   "execution_count": 29,
   "id": "477505d3-28b7-410d-81f7-a236b53e40bb",
   "metadata": {},
   "outputs": [],
   "source": [
    "start_date=min( pd.to_datetime(data[\"completed_at\"])).date()"
   ]
  },
  {
   "cell_type": "code",
   "execution_count": 30,
   "id": "e2fbe4a2-bac3-4e93-9054-9b2df958b087",
   "metadata": {},
   "outputs": [
    {
     "data": {
      "text/plain": [
       "datetime.date"
      ]
     },
     "execution_count": 30,
     "metadata": {},
     "output_type": "execute_result"
    }
   ],
   "source": [
    "type(start_date)"
   ]
  },
  {
   "cell_type": "code",
   "execution_count": 31,
   "id": "721db9fa-db3e-4146-a91c-1de719c5f8dd",
   "metadata": {},
   "outputs": [],
   "source": [
    "for module in module_dict.keys():\n",
    "    timestamps = data[data.module_id.astype(str) == module][\n",
    "        \"completed_at\"\n",
    "    ].dt.date.unique()\n",
    "    timestamps = [\n",
    "        x for x in timestamps if type(x) != pd._libs.tslibs.nattype.NaTType\n",
    "    ]\n",
    "\n",
    "    # Filtering the timestamps based on the selected date range\n",
    "    # start_date = datetime.datetime.strptime(start_date, \"%Y-%m-%d\").date()\n",
    "    # end_date = datetime.datetime.strptime(end_date, \"%Y-%m-%d\").date()"
   ]
  },
  {
   "cell_type": "code",
   "execution_count": 32,
   "id": "b37099ca-0c62-43c5-bd74-39993d05df16",
   "metadata": {},
   "outputs": [],
   "source": [
    "timestamps = data[data.module_id.astype(str) == '8135'][\n",
    "        \"completed_at\"\n",
    "    ].dt.date.unique()\n",
    "timestamps = [\n",
    "        x for x in timestamps if type(x) != pd._libs.tslibs.nattype.NaTType\n",
    "    ]"
   ]
  },
  {
   "cell_type": "code",
   "execution_count": 33,
   "id": "0df44c25-74a6-4efe-af31-d0f4e782284e",
   "metadata": {},
   "outputs": [
    {
     "data": {
      "text/plain": [
       "[datetime.date(2019, 6, 25),\n",
       " datetime.date(2019, 6, 26),\n",
       " datetime.date(2019, 6, 27)]"
      ]
     },
     "execution_count": 33,
     "metadata": {},
     "output_type": "execute_result"
    }
   ],
   "source": [
    "timestamps"
   ]
  },
  {
   "cell_type": "markdown",
   "id": "c00dc6c8-6b79-48b7-9818-2b243aff2f08",
   "metadata": {},
   "source": [
    "### Tab - Module Completion Over Time"
   ]
  },
  {
   "cell_type": "code",
   "execution_count": 34,
   "id": "e1f9febd-0718-41d4-bf61-efd08132329f",
   "metadata": {},
   "outputs": [],
   "source": [
    "#data[(data.state == 'completed') & (data.module_name == 'Module 6: Designing Software')].size"
   ]
  },
  {
   "cell_type": "code",
   "execution_count": 35,
   "id": "ade6c7c9-8c7a-4fa8-9266-f3981d51fcb7",
   "metadata": {},
   "outputs": [],
   "source": [
    "def get_completed_percentage_date(df, module, date):\n",
    "    '''\n",
    "    returns specifically the completed percentage of module in df till a specified date\n",
    "    \n",
    "    Inputs\n",
    "    ------\n",
    "    df: dataframe\n",
    "    module: str, id of the module\n",
    "    date: datetime.date, date till which the completion percentage of each module is desired\n",
    "    \n",
    "    Returns\n",
    "    -------\n",
    "    percentage, float, percentage value\n",
    "    \n",
    "    '''\n",
    "    \n",
    "    # Convert the date to datetime with time component set to midnight\n",
    "    datetime_date = datetime.datetime.combine(date, datetime.datetime.min.time())\n",
    "    \n",
    "    df_module = df[df.module_id.astype(str) == module]\n",
    "    total_module_students = df_module.student_id.unique().size\n",
    "    \n",
    "    # if there is not a sigle row with completion date then we get an datetime error since blanks are not compared to date \n",
    "    # to get around this edge case, return 0 \n",
    "    if  df_module[df_module.state == 'completed'].size == 0:\n",
    "        return 0.0\n",
    "    \n",
    "    percentage = df_module[(df_module.state=='completed') & (df_module['completed_at'].dt.date <= date)].student_id.unique().size / total_module_students \n",
    "    \n",
    "    return percentage"
   ]
  },
  {
   "cell_type": "code",
   "execution_count": 36,
   "id": "e51fefb8-bce7-4002-9e61-9626e8887094",
   "metadata": {},
   "outputs": [],
   "source": [
    "# for every timestamp by date, for every module we need to compute the percentage completion for that module\n",
    "# melted dataframe will have the columns: timestamp (date), module, status (optional), percentage completion"
   ]
  },
  {
   "cell_type": "code",
   "execution_count": 37,
   "id": "de88e48e-2608-4ae9-9a0d-be5ad4ce5eb4",
   "metadata": {},
   "outputs": [],
   "source": [
    "# fix how to remove NaT\n",
    "timestamps = data['completed_at'].dt.date.unique()\n",
    "timestamps = [x for x in timestamps if type(x) != pd._libs.tslibs.nattype.NaTType ]"
   ]
  },
  {
   "cell_type": "code",
   "execution_count": 38,
   "id": "57fa73ea-be6b-4357-aaed-9828855bf0a3",
   "metadata": {},
   "outputs": [
    {
     "data": {
      "text/plain": [
       "[datetime.date(2019, 6, 25),\n",
       " datetime.date(2019, 6, 26),\n",
       " datetime.date(2019, 7, 9),\n",
       " datetime.date(2019, 6, 27)]"
      ]
     },
     "execution_count": 38,
     "metadata": {},
     "output_type": "execute_result"
    }
   ],
   "source": [
    "timestamps"
   ]
  },
  {
   "cell_type": "code",
   "execution_count": 39,
   "id": "82a943f1-f101-4cfc-ab74-3c2cf4c4b48f",
   "metadata": {},
   "outputs": [],
   "source": [
    "start_range = datetime.datetime.strptime('2019-07-01', '%Y-%m-%d').date()\n",
    "end_range = datetime.datetime.strptime('2019-07-31', '%Y-%m-%d').date()"
   ]
  },
  {
   "cell_type": "code",
   "execution_count": 40,
   "id": "6d36945f-5b2d-46e0-ad33-0eaa6d3c37d0",
   "metadata": {},
   "outputs": [],
   "source": [
    "filtered_timestamps = [\n",
    "    timestamp for timestamp in timestamps\n",
    "    if start_range <= timestamp <= end_range\n",
    "]"
   ]
  },
  {
   "cell_type": "code",
   "execution_count": 41,
   "id": "8f26714e-6be6-4430-bb31-ebfe52cfb2e4",
   "metadata": {},
   "outputs": [
    {
     "data": {
      "text/plain": [
       "[datetime.date(2019, 7, 9)]"
      ]
     },
     "execution_count": 41,
     "metadata": {},
     "output_type": "execute_result"
    }
   ],
   "source": [
    "filtered_timestamps"
   ]
  },
  {
   "cell_type": "code",
   "execution_count": 42,
   "id": "20a6796c-bed1-436f-b23f-93601c704188",
   "metadata": {
    "tags": []
   },
   "outputs": [],
   "source": [
    "## To build a dashboard lineplot with time on the x axis and the percentage completion on y axis\n",
    "# for each module\n",
    "\n",
    "result_time = pd.DataFrame(columns = ['Date', 'Module', 'Percentage Completion'])\n",
    "for module in list(module_dict.keys()):\n",
    "    timestamps = data[data.module_id.astype(str)==module]['completed_at'].dt.date.unique()\n",
    "    timestamps = [x for x in timestamps if type(x) != pd._libs.tslibs.nattype.NaTType ]\n",
    "    for date in timestamps:\n",
    "        #print(module)\n",
    "        value = round(get_completed_percentage_date(data, module, date)*100, 1)\n",
    "        \n",
    "        new_df = pd.DataFrame([[date, module_dict.get(module), value]], columns = ['Date', 'Module', 'Percentage Completion'])\n",
    "        \n",
    "        result_time = pd.concat([result_time, new_df], ignore_index = True)"
   ]
  },
  {
   "cell_type": "code",
   "execution_count": 43,
   "id": "f32f85e9-8e79-4c14-a36a-a0188ae876f5",
   "metadata": {},
   "outputs": [
    {
     "data": {
      "text/html": [
       "<div>\n",
       "<style scoped>\n",
       "    .dataframe tbody tr th:only-of-type {\n",
       "        vertical-align: middle;\n",
       "    }\n",
       "\n",
       "    .dataframe tbody tr th {\n",
       "        vertical-align: top;\n",
       "    }\n",
       "\n",
       "    .dataframe thead th {\n",
       "        text-align: right;\n",
       "    }\n",
       "</style>\n",
       "<table border=\"1\" class=\"dataframe\">\n",
       "  <thead>\n",
       "    <tr style=\"text-align: right;\">\n",
       "      <th></th>\n",
       "      <th>Date</th>\n",
       "      <th>Module</th>\n",
       "      <th>Percentage Completion</th>\n",
       "    </tr>\n",
       "  </thead>\n",
       "  <tbody>\n",
       "    <tr>\n",
       "      <th>0</th>\n",
       "      <td>2019-06-25</td>\n",
       "      <td>Course Introduction</td>\n",
       "      <td>19.0</td>\n",
       "    </tr>\n",
       "    <tr>\n",
       "      <th>1</th>\n",
       "      <td>2019-06-26</td>\n",
       "      <td>Course Introduction</td>\n",
       "      <td>57.1</td>\n",
       "    </tr>\n",
       "    <tr>\n",
       "      <th>2</th>\n",
       "      <td>2019-06-27</td>\n",
       "      <td>Course Introduction</td>\n",
       "      <td>85.7</td>\n",
       "    </tr>\n",
       "    <tr>\n",
       "      <th>3</th>\n",
       "      <td>2019-07-09</td>\n",
       "      <td>How to Design Data</td>\n",
       "      <td>19.0</td>\n",
       "    </tr>\n",
       "    <tr>\n",
       "      <th>4</th>\n",
       "      <td>2019-06-26</td>\n",
       "      <td>How to Design Functions</td>\n",
       "      <td>14.3</td>\n",
       "    </tr>\n",
       "    <tr>\n",
       "      <th>5</th>\n",
       "      <td>2019-06-27</td>\n",
       "      <td>How to Design Functions</td>\n",
       "      <td>23.8</td>\n",
       "    </tr>\n",
       "    <tr>\n",
       "      <th>6</th>\n",
       "      <td>2019-06-26</td>\n",
       "      <td>Intro to Object Orientation</td>\n",
       "      <td>4.8</td>\n",
       "    </tr>\n",
       "    <tr>\n",
       "      <th>7</th>\n",
       "      <td>2019-06-27</td>\n",
       "      <td>Intro to Object Orientation</td>\n",
       "      <td>14.3</td>\n",
       "    </tr>\n",
       "    <tr>\n",
       "      <th>8</th>\n",
       "      <td>2019-06-26</td>\n",
       "      <td>Data Hierarchies</td>\n",
       "      <td>4.8</td>\n",
       "    </tr>\n",
       "    <tr>\n",
       "      <th>9</th>\n",
       "      <td>2019-06-27</td>\n",
       "      <td>Data Hierarchies</td>\n",
       "      <td>14.3</td>\n",
       "    </tr>\n",
       "  </tbody>\n",
       "</table>\n",
       "</div>"
      ],
      "text/plain": [
       "         Date                       Module  Percentage Completion\n",
       "0  2019-06-25          Course Introduction                   19.0\n",
       "1  2019-06-26          Course Introduction                   57.1\n",
       "2  2019-06-27          Course Introduction                   85.7\n",
       "3  2019-07-09           How to Design Data                   19.0\n",
       "4  2019-06-26      How to Design Functions                   14.3\n",
       "5  2019-06-27      How to Design Functions                   23.8\n",
       "6  2019-06-26  Intro to Object Orientation                    4.8\n",
       "7  2019-06-27  Intro to Object Orientation                   14.3\n",
       "8  2019-06-26             Data Hierarchies                    4.8\n",
       "9  2019-06-27             Data Hierarchies                   14.3"
      ]
     },
     "execution_count": 43,
     "metadata": {},
     "output_type": "execute_result"
    }
   ],
   "source": [
    "result_time"
   ]
  },
  {
   "cell_type": "code",
   "execution_count": 44,
   "id": "138eb166-2d6b-47a4-a547-c18419bcc711",
   "metadata": {},
   "outputs": [],
   "source": [
    "# Plotting the lineplot\n",
    "fig2 = go.Figure()\n",
    "for module, group in result_time.groupby('Module'):\n",
    "    sorted_group = group.sort_values('Date')\n",
    "    \n",
    "    if len(sorted_group) == 1:\n",
    "        fig2.add_trace(go.Scatter(x=sorted_group['Date'], y=sorted_group['Percentage Completion'], mode='markers', name=module))\n",
    "        \n",
    "    else:\n",
    "        fig2.add_trace(go.Scatter(x=sorted_group['Date'], y=sorted_group['Percentage Completion'], mode='lines', name=module))"
   ]
  },
  {
   "cell_type": "code",
   "execution_count": 45,
   "id": "2a2a385d-5435-470c-82f8-dd28c665d3fc",
   "metadata": {},
   "outputs": [
    {
     "data": {
      "text/html": [
       "<iframe\n",
       "    scrolling=\"no\"\n",
       "    width=\"100%\"\n",
       "    height=\"545px\"\n",
       "    src=\"iframe_figures/figure_45.html\"\n",
       "    frameborder=\"0\"\n",
       "    allowfullscreen\n",
       "></iframe>\n"
      ]
     },
     "metadata": {},
     "output_type": "display_data"
    }
   ],
   "source": [
    "fig2.update_layout(\n",
    "    title='Percentage Completion by Module',\n",
    "    xaxis=dict(title='Date'),\n",
    "    yaxis=dict(title='Percentage')\n",
    ")\n",
    "\n",
    "# Set custom start and end dates for the x-axis\n",
    "start_date = '2019-06-20'\n",
    "end_date = '2019-07-20'\n",
    "fig2.update_xaxes(range=[start_date, end_date])\n",
    "\n",
    "# Specify custom spacing between dates on the x-axis\n",
    "date_spacing = 'D7'  # Weekly spacing, adjust as per your requirement\n",
    "fig2.update_xaxes(dtick=date_spacing)\n",
    "\n",
    "fig2.show()"
   ]
  },
  {
   "cell_type": "markdown",
   "id": "c68ad691-6308-4507-8a89-82581f16ccd2",
   "metadata": {},
   "source": [
    "## Student Completion Per Item"
   ]
  },
  {
   "cell_type": "code",
   "execution_count": 46,
   "id": "c4698afa-768e-417c-bf5f-14ce354f16b8",
   "metadata": {},
   "outputs": [
    {
     "data": {
      "text/plain": [
       "dict_items([('8135', 'Course Introduction'), ('8136', 'How to Design Data'), ('8137', 'How to Design Functions'), ('8169', 'Intro to Object Orientation'), ('8170', 'Data Hierarchies'), ('8171', 'Designing Software')])"
      ]
     },
     "execution_count": 46,
     "metadata": {},
     "output_type": "execute_result"
    }
   ],
   "source": [
    "module_dict.items()"
   ]
  },
  {
   "cell_type": "code",
   "execution_count": 47,
   "id": "cc2c8b0f-b340-4fb8-9915-b4ac3afa8848",
   "metadata": {},
   "outputs": [],
   "source": [
    "# Creating a dictionary of items per module\n",
    "items_in_module = defaultdict(str)\n",
    "\n",
    "for module in module_dict.keys():\n",
    "    items_in_module[str(module)] = list(data[data.module_id.astype(str) == module].items_title.unique())"
   ]
  },
  {
   "cell_type": "code",
   "execution_count": 48,
   "id": "1bd263ba-dbfc-4383-b0dc-e7b8ba2652c1",
   "metadata": {},
   "outputs": [
    {
     "data": {
      "text/plain": [
       "['Introduction Text',\n",
       " 'Important Info Moving Foreward',\n",
       " 'Quiz 1 - Past Experience']"
      ]
     },
     "execution_count": 48,
     "metadata": {},
     "output_type": "execute_result"
    }
   ],
   "source": [
    "# Checking the items in a dictionary\n",
    "items_in_module.get('8135')"
   ]
  },
  {
   "cell_type": "code",
   "execution_count": 49,
   "id": "5b4b3e36-8218-40c0-9349-4f325b0c6fdc",
   "metadata": {},
   "outputs": [
    {
     "data": {
      "text/plain": [
       "dict_items([('8135', 'Quiz 1 - Past Experience'), ('8136', 'Generic Quiz'), ('8137', 'Another Quiz'), ('8169', 'a2 - Object Orientation'), ('8170', 'Hardest Quiz Ever -- AVERAGE SCORE KEPT'), ('8171', 'Nobody Has Done This Item')])"
      ]
     },
     "execution_count": 49,
     "metadata": {},
     "output_type": "execute_result"
    }
   ],
   "source": [
    "item_dict.items()"
   ]
  },
  {
   "cell_type": "code",
   "execution_count": 50,
   "id": "0dcc2496-2c45-4627-afa1-3296d6374903",
   "metadata": {},
   "outputs": [
    {
     "data": {
      "text/plain": [
       "dict_keys(['8135', '8136', '8137', '8169', '8170', '8171'])"
      ]
     },
     "execution_count": 50,
     "metadata": {},
     "output_type": "execute_result"
    }
   ],
   "source": [
    "item_dict.keys()"
   ]
  },
  {
   "cell_type": "code",
   "execution_count": 51,
   "id": "483a27f1-8a62-4083-a297-86e2e9c4ef68",
   "metadata": {},
   "outputs": [
    {
     "data": {
      "text/plain": [
       "['Introduction Text',\n",
       " 'Important Info Moving Foreward',\n",
       " 'Quiz 1 - Past Experience']"
      ]
     },
     "execution_count": 51,
     "metadata": {},
     "output_type": "execute_result"
    }
   ],
   "source": [
    "items_in_module.get('8135')"
   ]
  },
  {
   "cell_type": "code",
   "execution_count": 52,
   "id": "bb144db1-b4ed-4dc2-8dab-82c6f680369f",
   "metadata": {},
   "outputs": [
    {
     "data": {
      "text/plain": [
       "16     False\n",
       "17     False\n",
       "18     False\n",
       "19     False\n",
       "36     False\n",
       "       ...  \n",
       "399    False\n",
       "416    False\n",
       "417    False\n",
       "418    False\n",
       "419    False\n",
       "Name: items_title, Length: 84, dtype: bool"
      ]
     },
     "execution_count": 52,
     "metadata": {},
     "output_type": "execute_result"
    }
   ],
   "source": [
    "data_module.items_title.str.strip() == 'Introduction Text'"
   ]
  },
  {
   "cell_type": "code",
   "execution_count": 53,
   "id": "bb7dc0fe-a971-4ca7-bcb6-d8e06798ffb9",
   "metadata": {},
   "outputs": [
    {
     "data": {
      "text/plain": [
       "16     False\n",
       "17     False\n",
       "18     False\n",
       "19     False\n",
       "36     False\n",
       "       ...  \n",
       "399    False\n",
       "416    False\n",
       "417    False\n",
       "418    False\n",
       "419    False\n",
       "Name: items_title, Length: 84, dtype: bool"
      ]
     },
     "execution_count": 53,
     "metadata": {},
     "output_type": "execute_result"
    }
   ],
   "source": [
    "data_module.items_title.str.strip() == 'Another Quiz'"
   ]
  },
  {
   "cell_type": "code",
   "execution_count": 54,
   "id": "f44d70db-2767-4c38-9b5a-7e474a5bf3df",
   "metadata": {},
   "outputs": [],
   "source": [
    "# total student is give by 'total_students'\n",
    "\n",
    "# result dataframe\n",
    "student_completion_per_item = pd.DataFrame(columns = ['Module', 'Item', 'Item Percentage Completion', 'Item Position'])\n",
    "\n",
    "\n",
    "\n",
    "\n",
    "# Computing the percentage completion in each item of a module\n",
    "modules = list(data.module_id.unique().astype(str))\n",
    "\n",
    "for module in modules:\n",
    "    # number of student id related to Module\n",
    "    data_module = data[(data.module_id.astype(str) == module)]\n",
    "    \n",
    "\n",
    "    for i, item in enumerate(items_in_module.get(module)):\n",
    "        data_module_item = data_module[data_module.items_title == item]\n",
    "        \n",
    "        #print(data_module_item)\n",
    "        \n",
    "        item_percent_completion = round((data_module_item[data_module_item['item_cp_req_completed'] == True]['student_id'].unique().size)*100/total_students, 0)\n",
    "        new_df = pd.DataFrame([[module_dict.get(module), item, item_percent_completion, i+1]], columns = ['Module', 'Item', 'Item Percentage Completion', 'Item Position'])\n",
    "        \n",
    "        student_completion_per_item = pd.concat([student_completion_per_item, new_df], ignore_index = True)"
   ]
  },
  {
   "cell_type": "code",
   "execution_count": 55,
   "id": "5f53c633-86b7-4426-af2e-074e0368bb70",
   "metadata": {},
   "outputs": [
    {
     "data": {
      "text/html": [
       "<div>\n",
       "<style scoped>\n",
       "    .dataframe tbody tr th:only-of-type {\n",
       "        vertical-align: middle;\n",
       "    }\n",
       "\n",
       "    .dataframe tbody tr th {\n",
       "        vertical-align: top;\n",
       "    }\n",
       "\n",
       "    .dataframe thead th {\n",
       "        text-align: right;\n",
       "    }\n",
       "</style>\n",
       "<table border=\"1\" class=\"dataframe\">\n",
       "  <thead>\n",
       "    <tr style=\"text-align: right;\">\n",
       "      <th></th>\n",
       "      <th>Module</th>\n",
       "      <th>Item</th>\n",
       "      <th>Item Percentage Completion</th>\n",
       "      <th>Item Position</th>\n",
       "    </tr>\n",
       "  </thead>\n",
       "  <tbody>\n",
       "    <tr>\n",
       "      <th>0</th>\n",
       "      <td>Course Introduction</td>\n",
       "      <td>Introduction Text</td>\n",
       "      <td>100.0</td>\n",
       "      <td>1</td>\n",
       "    </tr>\n",
       "    <tr>\n",
       "      <th>1</th>\n",
       "      <td>Course Introduction</td>\n",
       "      <td>Important Info Moving Foreward</td>\n",
       "      <td>100.0</td>\n",
       "      <td>2</td>\n",
       "    </tr>\n",
       "    <tr>\n",
       "      <th>2</th>\n",
       "      <td>Course Introduction</td>\n",
       "      <td>Quiz 1 - Past Experience</td>\n",
       "      <td>86.0</td>\n",
       "      <td>3</td>\n",
       "    </tr>\n",
       "    <tr>\n",
       "      <th>3</th>\n",
       "      <td>How to Design Data</td>\n",
       "      <td>Designing Data</td>\n",
       "      <td>62.0</td>\n",
       "      <td>1</td>\n",
       "    </tr>\n",
       "    <tr>\n",
       "      <th>4</th>\n",
       "      <td>How to Design Data</td>\n",
       "      <td>Talk About It.</td>\n",
       "      <td>48.0</td>\n",
       "      <td>2</td>\n",
       "    </tr>\n",
       "  </tbody>\n",
       "</table>\n",
       "</div>"
      ],
      "text/plain": [
       "                Module                            Item   \n",
       "0  Course Introduction               Introduction Text  \\\n",
       "1  Course Introduction  Important Info Moving Foreward   \n",
       "2  Course Introduction        Quiz 1 - Past Experience   \n",
       "3   How to Design Data                  Designing Data   \n",
       "4   How to Design Data                  Talk About It.   \n",
       "\n",
       "   Item Percentage Completion Item Position  \n",
       "0                       100.0             1  \n",
       "1                       100.0             2  \n",
       "2                        86.0             3  \n",
       "3                        62.0             1  \n",
       "4                        48.0             2  "
      ]
     },
     "execution_count": 55,
     "metadata": {},
     "output_type": "execute_result"
    }
   ],
   "source": [
    "student_completion_per_item.head()"
   ]
  },
  {
   "cell_type": "code",
   "execution_count": 56,
   "id": "09b35d2e-3e7e-4c58-a242-4e7e8d7d7e02",
   "metadata": {},
   "outputs": [
    {
     "data": {
      "text/html": [
       "<iframe\n",
       "    scrolling=\"no\"\n",
       "    width=\"100%\"\n",
       "    height=\"1220\"\n",
       "    src=\"iframe_figures/figure_56.html\"\n",
       "    frameborder=\"0\"\n",
       "    allowfullscreen\n",
       "></iframe>\n"
      ]
     },
     "metadata": {},
     "output_type": "display_data"
    }
   ],
   "source": [
    "# Plotting\n",
    "\n",
    "# Group the DataFrame by 'module'\n",
    "grouped_df = student_completion_per_item.groupby('Module')\n",
    "\n",
    "\n",
    "# Calculate the number of rows and columns for the subplots\n",
    "num_modules = len(grouped_df)\n",
    "num_cols = 2\n",
    "num_rows = (num_modules + num_cols - 1) // num_cols\n",
    "\n",
    "# Create subplots with multiple columns\n",
    "fig3 = make_subplots(rows=num_rows, cols=num_cols, shared_xaxes=True, vertical_spacing=0.01)\n",
    "\n",
    "\n",
    "# Define custom colors for the bars\n",
    "colors = ['#1f77b4', '#ff7f0e', '#2ca02c', '#d62728', '#9467bd']\n",
    "\n",
    "# Iterate over each module group\n",
    "for i, (module, group) in enumerate(grouped_df):\n",
    "    # Calculate the subplot row and column based on the index\n",
    "    row = i // num_cols + 1\n",
    "    col = i % num_cols + 1\n",
    "    \n",
    "    # Create a horizontal bar chart for the module\n",
    "    fig3.add_trace(go.Bar(y=group['Item'][::-1],\n",
    "                          x=group['Item Percentage Completion'][::-1],\n",
    "                          orientation='h',\n",
    "                          name=module,\n",
    "                          marker=dict(opacity=0.8),\n",
    "                          text=[],\n",
    "                          hovertemplate=\"Item Position: %{text}<br>Item Title: %{y}<br>Completion:%{x}%<extra></extra>\"),\n",
    "                   row=row,\n",
    "                   col=col)\n",
    "\n",
    "# Update the layout of the figure\n",
    "fig3.update_layout(height=200*len(grouped_df), title='Percentage Completion by Item for Each Module',\n",
    "                  xaxis_title='Percentage Completion', yaxis_title='Item')\n",
    "\n",
    "\n",
    "# Show the figure\n",
    "fig3.show()"
   ]
  },
  {
   "cell_type": "code",
   "execution_count": 57,
   "id": "096bd110-01c4-415d-8c2a-79f4281bbc2b",
   "metadata": {},
   "outputs": [
    {
     "data": {
      "text/html": [
       "<div>\n",
       "<style scoped>\n",
       "    .dataframe tbody tr th:only-of-type {\n",
       "        vertical-align: middle;\n",
       "    }\n",
       "\n",
       "    .dataframe tbody tr th {\n",
       "        vertical-align: top;\n",
       "    }\n",
       "\n",
       "    .dataframe thead th {\n",
       "        text-align: right;\n",
       "    }\n",
       "</style>\n",
       "<table border=\"1\" class=\"dataframe\">\n",
       "  <thead>\n",
       "    <tr style=\"text-align: right;\">\n",
       "      <th></th>\n",
       "      <th>Module</th>\n",
       "      <th>Item</th>\n",
       "      <th>Item Percentage Completion</th>\n",
       "      <th>Item Position</th>\n",
       "    </tr>\n",
       "  </thead>\n",
       "  <tbody>\n",
       "    <tr>\n",
       "      <th>0</th>\n",
       "      <td>Course Introduction</td>\n",
       "      <td>Introduction Text</td>\n",
       "      <td>100.0</td>\n",
       "      <td>1</td>\n",
       "    </tr>\n",
       "    <tr>\n",
       "      <th>1</th>\n",
       "      <td>Course Introduction</td>\n",
       "      <td>Important Info Moving Foreward</td>\n",
       "      <td>100.0</td>\n",
       "      <td>2</td>\n",
       "    </tr>\n",
       "    <tr>\n",
       "      <th>2</th>\n",
       "      <td>Course Introduction</td>\n",
       "      <td>Quiz 1 - Past Experience</td>\n",
       "      <td>86.0</td>\n",
       "      <td>3</td>\n",
       "    </tr>\n",
       "    <tr>\n",
       "      <th>3</th>\n",
       "      <td>How to Design Data</td>\n",
       "      <td>Designing Data</td>\n",
       "      <td>62.0</td>\n",
       "      <td>1</td>\n",
       "    </tr>\n",
       "    <tr>\n",
       "      <th>4</th>\n",
       "      <td>How to Design Data</td>\n",
       "      <td>Talk About It.</td>\n",
       "      <td>48.0</td>\n",
       "      <td>2</td>\n",
       "    </tr>\n",
       "    <tr>\n",
       "      <th>5</th>\n",
       "      <td>How to Design Data</td>\n",
       "      <td>a1 - Data Assignment</td>\n",
       "      <td>67.0</td>\n",
       "      <td>3</td>\n",
       "    </tr>\n",
       "    <tr>\n",
       "      <th>6</th>\n",
       "      <td>How to Design Data</td>\n",
       "      <td>Generic Quiz</td>\n",
       "      <td>52.0</td>\n",
       "      <td>4</td>\n",
       "    </tr>\n",
       "    <tr>\n",
       "      <th>7</th>\n",
       "      <td>How to Design Functions</td>\n",
       "      <td>Designing Functions</td>\n",
       "      <td>33.0</td>\n",
       "      <td>1</td>\n",
       "    </tr>\n",
       "    <tr>\n",
       "      <th>8</th>\n",
       "      <td>How to Design Functions</td>\n",
       "      <td>This is a pdf.pdf</td>\n",
       "      <td>43.0</td>\n",
       "      <td>2</td>\n",
       "    </tr>\n",
       "    <tr>\n",
       "      <th>9</th>\n",
       "      <td>How to Design Functions</td>\n",
       "      <td>Another Quiz</td>\n",
       "      <td>24.0</td>\n",
       "      <td>3</td>\n",
       "    </tr>\n",
       "    <tr>\n",
       "      <th>10</th>\n",
       "      <td>Intro to Object Orientation</td>\n",
       "      <td>OOP</td>\n",
       "      <td>24.0</td>\n",
       "      <td>1</td>\n",
       "    </tr>\n",
       "    <tr>\n",
       "      <th>11</th>\n",
       "      <td>Intro to Object Orientation</td>\n",
       "      <td>OOP (continued)</td>\n",
       "      <td>24.0</td>\n",
       "      <td>2</td>\n",
       "    </tr>\n",
       "    <tr>\n",
       "      <th>12</th>\n",
       "      <td>Intro to Object Orientation</td>\n",
       "      <td>This is a pdf.pdf</td>\n",
       "      <td>24.0</td>\n",
       "      <td>3</td>\n",
       "    </tr>\n",
       "    <tr>\n",
       "      <th>13</th>\n",
       "      <td>Intro to Object Orientation</td>\n",
       "      <td>a2 - Object Orientation</td>\n",
       "      <td>19.0</td>\n",
       "      <td>4</td>\n",
       "    </tr>\n",
       "    <tr>\n",
       "      <th>14</th>\n",
       "      <td>Data Hierarchies</td>\n",
       "      <td>Data Hierarchies</td>\n",
       "      <td>19.0</td>\n",
       "      <td>1</td>\n",
       "    </tr>\n",
       "    <tr>\n",
       "      <th>15</th>\n",
       "      <td>Data Hierarchies</td>\n",
       "      <td>Hardest Quiz Ever -- AVERAGE SCORE KEPT</td>\n",
       "      <td>24.0</td>\n",
       "      <td>2</td>\n",
       "    </tr>\n",
       "    <tr>\n",
       "      <th>16</th>\n",
       "      <td>Designing Software</td>\n",
       "      <td>Designing Software</td>\n",
       "      <td>19.0</td>\n",
       "      <td>1</td>\n",
       "    </tr>\n",
       "    <tr>\n",
       "      <th>17</th>\n",
       "      <td>Designing Software</td>\n",
       "      <td>Quiz 2 - 3 Attempts</td>\n",
       "      <td>29.0</td>\n",
       "      <td>2</td>\n",
       "    </tr>\n",
       "    <tr>\n",
       "      <th>18</th>\n",
       "      <td>Designing Software</td>\n",
       "      <td>Ethics Discussion Board</td>\n",
       "      <td>0.0</td>\n",
       "      <td>3</td>\n",
       "    </tr>\n",
       "    <tr>\n",
       "      <th>19</th>\n",
       "      <td>Designing Software</td>\n",
       "      <td>Nobody Has Done This Item</td>\n",
       "      <td>0.0</td>\n",
       "      <td>4</td>\n",
       "    </tr>\n",
       "  </tbody>\n",
       "</table>\n",
       "</div>"
      ],
      "text/plain": [
       "                         Module                                     Item   \n",
       "0           Course Introduction                        Introduction Text  \\\n",
       "1           Course Introduction           Important Info Moving Foreward   \n",
       "2           Course Introduction                 Quiz 1 - Past Experience   \n",
       "3            How to Design Data                           Designing Data   \n",
       "4            How to Design Data                           Talk About It.   \n",
       "5            How to Design Data                     a1 - Data Assignment   \n",
       "6            How to Design Data                             Generic Quiz   \n",
       "7       How to Design Functions                      Designing Functions   \n",
       "8       How to Design Functions                        This is a pdf.pdf   \n",
       "9       How to Design Functions                             Another Quiz   \n",
       "10  Intro to Object Orientation                                      OOP   \n",
       "11  Intro to Object Orientation                          OOP (continued)   \n",
       "12  Intro to Object Orientation                        This is a pdf.pdf   \n",
       "13  Intro to Object Orientation                  a2 - Object Orientation   \n",
       "14             Data Hierarchies                         Data Hierarchies   \n",
       "15             Data Hierarchies  Hardest Quiz Ever -- AVERAGE SCORE KEPT   \n",
       "16           Designing Software                       Designing Software   \n",
       "17           Designing Software                      Quiz 2 - 3 Attempts   \n",
       "18           Designing Software                  Ethics Discussion Board   \n",
       "19           Designing Software                Nobody Has Done This Item   \n",
       "\n",
       "    Item Percentage Completion Item Position  \n",
       "0                        100.0             1  \n",
       "1                        100.0             2  \n",
       "2                         86.0             3  \n",
       "3                         62.0             1  \n",
       "4                         48.0             2  \n",
       "5                         67.0             3  \n",
       "6                         52.0             4  \n",
       "7                         33.0             1  \n",
       "8                         43.0             2  \n",
       "9                         24.0             3  \n",
       "10                        24.0             1  \n",
       "11                        24.0             2  \n",
       "12                        24.0             3  \n",
       "13                        19.0             4  \n",
       "14                        19.0             1  \n",
       "15                        24.0             2  \n",
       "16                        19.0             1  \n",
       "17                        29.0             2  \n",
       "18                         0.0             3  \n",
       "19                         0.0             4  "
      ]
     },
     "execution_count": 57,
     "metadata": {},
     "output_type": "execute_result"
    }
   ],
   "source": [
    "student_completion_per_item"
   ]
  },
  {
   "cell_type": "code",
   "execution_count": 58,
   "id": "5617f582-b407-49c2-bf93-2cd238738206",
   "metadata": {},
   "outputs": [],
   "source": [
    "items_in_module.get('8138')"
   ]
  },
  {
   "cell_type": "markdown",
   "id": "4929bdc5-8dc7-4532-b683-4e4810e62669",
   "metadata": {},
   "source": [
    "## Alternative approach with data augmentation and new visualizations"
   ]
  },
  {
   "cell_type": "code",
   "execution_count": 163,
   "id": "ed8f6c76-d09b-42f1-999a-4b6bac452880",
   "metadata": {},
   "outputs": [],
   "source": [
    "from dash import dash, html, dcc, Input, Output\n",
    "import dash_bootstrap_components as dbc\n",
    "import dash\n",
    "from dash import dash_table\n",
    "from dash.dependencies import Input, Output, State\n",
    "import re\n",
    "\n",
    "import pandas as pd\n",
    "import numpy as np\n",
    "import plotly.express as px\n",
    "import plotly.io as pio\n",
    "import plotly.graph_objects as go\n",
    "from plotly.subplots import make_subplots\n",
    "\n",
    "from collections import defaultdict\n",
    "\n",
    "from datetime import *\n",
    "import datetime\n",
    "\n",
    "pio.renderers.default = \"iframe\""
   ]
  },
  {
   "cell_type": "code",
   "execution_count": 164,
   "id": "c416c17c-c9cc-4ef5-a7e9-160d6a6423b1",
   "metadata": {},
   "outputs": [],
   "source": [
    "## helper functions\n",
    "\n",
    "def remove_special_characters(string):\n",
    "    # Define the pattern for special characters\n",
    "    pattern = r'[^a-zA-Z0-9]'\n",
    "\n",
    "    # Use regex to remove special characters\n",
    "    cleaned_string = re.sub(pattern, '', string)\n",
    "\n",
    "    return cleaned_string"
   ]
  },
  {
   "cell_type": "code",
   "execution_count": 165,
   "id": "b208e7ca-f4c6-4e5e-8706-3ce6cfcfca50",
   "metadata": {},
   "outputs": [],
   "source": [
    "# reading the data\n",
    "data = pd.read_csv(\"../data/module_data_augmented.csv\")"
   ]
  },
  {
   "cell_type": "code",
   "execution_count": 166,
   "id": "f8eab552-7fa4-4e2c-8015-b5b4aa455dc2",
   "metadata": {},
   "outputs": [
    {
     "data": {
      "text/html": [
       "<div>\n",
       "<style scoped>\n",
       "    .dataframe tbody tr th:only-of-type {\n",
       "        vertical-align: middle;\n",
       "    }\n",
       "\n",
       "    .dataframe tbody tr th {\n",
       "        vertical-align: top;\n",
       "    }\n",
       "\n",
       "    .dataframe thead th {\n",
       "        text-align: right;\n",
       "    }\n",
       "</style>\n",
       "<table border=\"1\" class=\"dataframe\">\n",
       "  <thead>\n",
       "    <tr style=\"text-align: right;\">\n",
       "      <th></th>\n",
       "      <th>completed_at</th>\n",
       "      <th>course_id</th>\n",
       "      <th>module_id</th>\n",
       "      <th>items_count</th>\n",
       "      <th>module_name</th>\n",
       "      <th>module_position</th>\n",
       "      <th>state</th>\n",
       "      <th>unlock_at</th>\n",
       "      <th>student_id</th>\n",
       "      <th>student_name</th>\n",
       "      <th>items_id</th>\n",
       "      <th>items_title</th>\n",
       "      <th>items_position</th>\n",
       "      <th>items_indent</th>\n",
       "      <th>items_type</th>\n",
       "      <th>items_module_id</th>\n",
       "      <th>item_cp_req_type</th>\n",
       "      <th>item_cp_req_completed</th>\n",
       "      <th>course_name</th>\n",
       "    </tr>\n",
       "  </thead>\n",
       "  <tbody>\n",
       "    <tr>\n",
       "      <th>0</th>\n",
       "      <td>10-05-2023 21:23</td>\n",
       "      <td>121654</td>\n",
       "      <td>787819</td>\n",
       "      <td>1</td>\n",
       "      <td>Get Started with the Canvas API</td>\n",
       "      <td>2</td>\n",
       "      <td>completed</td>\n",
       "      <td>NaN</td>\n",
       "      <td>93997</td>\n",
       "      <td>LtsStudentFive</td>\n",
       "      <td>5619042</td>\n",
       "      <td>CAPICO-API-usage-guidelines-v1.1.pdf</td>\n",
       "      <td>2</td>\n",
       "      <td>0</td>\n",
       "      <td>File</td>\n",
       "      <td>787819</td>\n",
       "      <td>NaN</td>\n",
       "      <td>NaN</td>\n",
       "      <td>🤖 Learning Services Student API Sandbox</td>\n",
       "    </tr>\n",
       "    <tr>\n",
       "      <th>1</th>\n",
       "      <td>10-05-2023 21:23</td>\n",
       "      <td>121654</td>\n",
       "      <td>787806</td>\n",
       "      <td>4</td>\n",
       "      <td>Scripting (current script instructions for LS ...</td>\n",
       "      <td>3</td>\n",
       "      <td>completed</td>\n",
       "      <td>NaN</td>\n",
       "      <td>93997</td>\n",
       "      <td>LtsStudentFive</td>\n",
       "      <td>5618861</td>\n",
       "      <td>Procedures for Running Scripts</td>\n",
       "      <td>1</td>\n",
       "      <td>1</td>\n",
       "      <td>Page</td>\n",
       "      <td>787806</td>\n",
       "      <td>NaN</td>\n",
       "      <td>NaN</td>\n",
       "      <td>🤖 Learning Services Student API Sandbox</td>\n",
       "    </tr>\n",
       "  </tbody>\n",
       "</table>\n",
       "</div>"
      ],
      "text/plain": [
       "       completed_at  course_id  module_id  items_count   \n",
       "0  10-05-2023 21:23     121654     787819            1  \\\n",
       "1  10-05-2023 21:23     121654     787806            4   \n",
       "\n",
       "                                         module_name  module_position   \n",
       "0                    Get Started with the Canvas API                2  \\\n",
       "1  Scripting (current script instructions for LS ...                3   \n",
       "\n",
       "       state  unlock_at  student_id     student_name  items_id   \n",
       "0  completed        NaN       93997   LtsStudentFive   5619042  \\\n",
       "1  completed        NaN       93997   LtsStudentFive   5618861   \n",
       "\n",
       "                            items_title  items_position  items_indent   \n",
       "0  CAPICO-API-usage-guidelines-v1.1.pdf               2             0  \\\n",
       "1        Procedures for Running Scripts               1             1   \n",
       "\n",
       "  items_type  items_module_id item_cp_req_type item_cp_req_completed   \n",
       "0       File           787819              NaN                   NaN  \\\n",
       "1       Page           787806              NaN                   NaN   \n",
       "\n",
       "                               course_name  \n",
       "0  🤖 Learning Services Student API Sandbox  \n",
       "1  🤖 Learning Services Student API Sandbox  "
      ]
     },
     "execution_count": 166,
     "metadata": {},
     "output_type": "execute_result"
    }
   ],
   "source": [
    "data.head(2)"
   ]
  },
  {
   "cell_type": "code",
   "execution_count": 167,
   "id": "7b50ddcd-ba08-4979-8cc3-f3e334c43241",
   "metadata": {},
   "outputs": [],
   "source": [
    "# dtype conversion\n",
    "categorical_cols = [\n",
    "    \"course_id\",\n",
    "    \"module_id\",\n",
    "    \"module_name\",\n",
    "    \"state\",\n",
    "    \"student_id\",\n",
    "    \"student_name\",\n",
    "    \"items_id\",\n",
    "    \"items_title\",\n",
    "    \"items_type\",\n",
    "    \"items_module_id\",\n",
    "    \"item_cp_req_type\",\n",
    "    \"item_cp_req_completed\",\n",
    "    \"course_name\",\n",
    "]\n",
    "\n",
    "# convert the timestamp to datetime format\n",
    "# fix the column data types\n",
    "data[\"completed_at\"] = pd.to_datetime(data[\"completed_at\"],format = \"%d-%m-%Y %H:%M\")\n",
    "\n",
    "for col in categorical_cols:\n",
    "    data[col] = data[col].astype(\"category\")\n",
    "    \n",
    "# remove special characters from course_name\n",
    "data[\"course_name\"] = data[\"course_name\"].apply(remove_special_characters)"
   ]
  },
  {
   "cell_type": "code",
   "execution_count": 168,
   "id": "f4c6fbb2-f9f7-4f31-a344-69077e54e075",
   "metadata": {},
   "outputs": [],
   "source": [
    "# Make the mapping of any id to the corresponding names\n",
    "# Make a dictionary of ids and their names\n",
    "module_num, module_dict, item_dict, course_dict, student_dict = (defaultdict(str) for _ in range(5))\n",
    "\n",
    "for _, row in data.iterrows():\n",
    "    module_dict[str(row[\"module_id\"])] = re.sub(\n",
    "        r\"^Module\\s+\\d+:\\s+\", \"\", row[\"module_name\"]\n",
    "    )\n",
    "    item_dict[str(row[\"items_module_id\"])] = row[\"items_title\"]\n",
    "    course_dict[str(row[\"course_id\"])] = row[\"course_name\"]\n",
    "    student_dict[str(row[\"student_id\"])] = row[\"student_name\"]"
   ]
  },
  {
   "cell_type": "markdown",
   "id": "de22b462-fb41-4d19-879f-95390e7009e0",
   "metadata": {},
   "source": [
    "## Rememeber use callbacks to filter the original dataframe to the subset dataframe you want to make computations, assume each helper function gets the requisite subset dataframe as  input"
   ]
  },
  {
   "cell_type": "code",
   "execution_count": 169,
   "id": "4b00dcc3-86e0-43b6-9b7d-c38f5f05c303",
   "metadata": {},
   "outputs": [],
   "source": [
    "# get the unique course list\n",
    "def get_course_list(df):\n",
    "    '''\n",
    "    returns the course list\n",
    "    '''\n",
    "    course_list = list(course_dict[str(x)] for x in df.course_id.unique())\n",
    "    return course_list"
   ]
  },
  {
   "cell_type": "code",
   "execution_count": 170,
   "id": "634330ac-3c14-4ba1-9411-a44a345234fa",
   "metadata": {},
   "outputs": [],
   "source": [
    "# get the unique module list under a specific course - Check if this \n",
    "def get_module_list(df):\n",
    "    '''\n",
    "    returns the module list for the df. df is a subset dataframe that is already filtered to a single course\n",
    "    '''\n",
    "    module_list = list(module_dict[str(x)] for x in df.module_id.unique())\n",
    "    return module_list"
   ]
  },
  {
   "cell_type": "code",
   "execution_count": 171,
   "id": "5e08269d-502a-4ba1-8c93-4b3008dc04dd",
   "metadata": {},
   "outputs": [],
   "source": [
    "def get_item_list(df):\n",
    "    '''\n",
    "    returns the item list for a given module in the course. df is a subset dataframe that is already filtered to a single course\n",
    "    '''\n",
    "    item_list = list(item_dict[str(x)] for x in df.items_module_id.unique())\n",
    "    return item_list"
   ]
  },
  {
   "cell_type": "code",
   "execution_count": 172,
   "id": "174eaa46-ce16-456e-a9a7-0e26f99d28c8",
   "metadata": {},
   "outputs": [],
   "source": [
    "def get_student_list(df):\n",
    "    '''\n",
    "    returns the student list for a given module in the course. df is a subset dataframe that is already filtered to a single course\n",
    "    '''\n",
    "    student_list = list(student_dict[str(x)] for x in df.student_id.unique())\n",
    "    return student_list"
   ]
  },
  {
   "cell_type": "code",
   "execution_count": 173,
   "id": "98e417ff-242f-4f33-85e3-9419e1774743",
   "metadata": {},
   "outputs": [
    {
     "data": {
      "text/plain": [
       "[' LtsStudentFive',\n",
       " ' LtsStudentFour',\n",
       " ' LtsStudentThree',\n",
       " 'LTS StudentOne',\n",
       " 'LTS StudentTwo']"
      ]
     },
     "execution_count": 173,
     "metadata": {},
     "output_type": "execute_result"
    }
   ],
   "source": [
    "temp_data = data[data.course_name.astype(str)==get_course_list(data)[0]]\n",
    "get_student_list(temp_data)"
   ]
  },
  {
   "cell_type": "markdown",
   "id": "75f0a5da-862f-4c16-b5e5-0535ee289512",
   "metadata": {},
   "source": [
    "# Manual Fitlering the selections"
   ]
  },
  {
   "cell_type": "code",
   "execution_count": 174,
   "id": "95201669-29db-47e7-ab20-9689b148cdfc",
   "metadata": {},
   "outputs": [
    {
     "data": {
      "text/plain": [
       "'LearningServicesStudentAPISandbox'"
      ]
     },
     "execution_count": 174,
     "metadata": {},
     "output_type": "execute_result"
    }
   ],
   "source": [
    "selected_course = get_course_list(data)[0]\n",
    "selected_course"
   ]
  },
  {
   "cell_type": "code",
   "execution_count": 175,
   "id": "1ddc8d6d-7446-4f7e-8bd0-8d43d01baffc",
   "metadata": {},
   "outputs": [
    {
     "data": {
      "text/plain": [
       "['Get Started with the Canvas API',\n",
       " 'Scripting (current script instructions for LS Ops - to be improved!) ',\n",
       " 'Data Science Introduction',\n",
       " 'Data Science Disciplines',\n",
       " 'Probability and Statistics']"
      ]
     },
     "execution_count": 175,
     "metadata": {},
     "output_type": "execute_result"
    }
   ],
   "source": [
    "selected_modules = get_module_list(data[data[\"course_name\"]==selected_course])\n",
    "selected_modules"
   ]
  },
  {
   "cell_type": "markdown",
   "id": "6b3d53c7-a8ca-43cc-86c0-34d2ebccc798",
   "metadata": {},
   "source": [
    "### Computing the duration (days) for completion of modules within a course by a student\n"
   ]
  },
  {
   "cell_type": "code",
   "execution_count": 176,
   "id": "1c31292b-aa26-4176-ac8b-169bfb25e316",
   "metadata": {},
   "outputs": [],
   "source": [
    "# data filered by selected course\n",
    "data_filteredby_course = data[data.course_name.astype(str)==get_course_list(data)[0]]"
   ]
  },
  {
   "cell_type": "code",
   "execution_count": 177,
   "id": "5dc6e770-cf16-4239-8f94-05030e9a453e",
   "metadata": {},
   "outputs": [
    {
     "data": {
      "text/html": [
       "<div>\n",
       "<style scoped>\n",
       "    .dataframe tbody tr th:only-of-type {\n",
       "        vertical-align: middle;\n",
       "    }\n",
       "\n",
       "    .dataframe tbody tr th {\n",
       "        vertical-align: top;\n",
       "    }\n",
       "\n",
       "    .dataframe thead th {\n",
       "        text-align: right;\n",
       "    }\n",
       "</style>\n",
       "<table border=\"1\" class=\"dataframe\">\n",
       "  <thead>\n",
       "    <tr style=\"text-align: right;\">\n",
       "      <th></th>\n",
       "      <th>completed_at</th>\n",
       "      <th>course_id</th>\n",
       "      <th>module_id</th>\n",
       "      <th>items_count</th>\n",
       "      <th>module_name</th>\n",
       "      <th>module_position</th>\n",
       "      <th>state</th>\n",
       "      <th>unlock_at</th>\n",
       "      <th>student_id</th>\n",
       "      <th>student_name</th>\n",
       "      <th>items_id</th>\n",
       "      <th>items_title</th>\n",
       "      <th>items_position</th>\n",
       "      <th>items_indent</th>\n",
       "      <th>items_type</th>\n",
       "      <th>items_module_id</th>\n",
       "      <th>item_cp_req_type</th>\n",
       "      <th>item_cp_req_completed</th>\n",
       "      <th>course_name</th>\n",
       "    </tr>\n",
       "  </thead>\n",
       "  <tbody>\n",
       "    <tr>\n",
       "      <th>0</th>\n",
       "      <td>2023-05-10 21:23:00</td>\n",
       "      <td>121654</td>\n",
       "      <td>787819</td>\n",
       "      <td>1</td>\n",
       "      <td>Get Started with the Canvas API</td>\n",
       "      <td>2</td>\n",
       "      <td>completed</td>\n",
       "      <td>NaN</td>\n",
       "      <td>93997</td>\n",
       "      <td>LtsStudentFive</td>\n",
       "      <td>5619042</td>\n",
       "      <td>CAPICO-API-usage-guidelines-v1.1.pdf</td>\n",
       "      <td>2</td>\n",
       "      <td>0</td>\n",
       "      <td>File</td>\n",
       "      <td>787819</td>\n",
       "      <td>NaN</td>\n",
       "      <td>NaN</td>\n",
       "      <td>LearningServicesStudentAPISandbox</td>\n",
       "    </tr>\n",
       "    <tr>\n",
       "      <th>1</th>\n",
       "      <td>2023-05-10 21:23:00</td>\n",
       "      <td>121654</td>\n",
       "      <td>787806</td>\n",
       "      <td>4</td>\n",
       "      <td>Scripting (current script instructions for LS ...</td>\n",
       "      <td>3</td>\n",
       "      <td>completed</td>\n",
       "      <td>NaN</td>\n",
       "      <td>93997</td>\n",
       "      <td>LtsStudentFive</td>\n",
       "      <td>5618861</td>\n",
       "      <td>Procedures for Running Scripts</td>\n",
       "      <td>1</td>\n",
       "      <td>1</td>\n",
       "      <td>Page</td>\n",
       "      <td>787806</td>\n",
       "      <td>NaN</td>\n",
       "      <td>NaN</td>\n",
       "      <td>LearningServicesStudentAPISandbox</td>\n",
       "    </tr>\n",
       "    <tr>\n",
       "      <th>2</th>\n",
       "      <td>2023-05-10 21:23:00</td>\n",
       "      <td>121654</td>\n",
       "      <td>787806</td>\n",
       "      <td>4</td>\n",
       "      <td>Scripting (current script instructions for LS ...</td>\n",
       "      <td>3</td>\n",
       "      <td>completed</td>\n",
       "      <td>NaN</td>\n",
       "      <td>93997</td>\n",
       "      <td>LtsStudentFive</td>\n",
       "      <td>5618862</td>\n",
       "      <td>Canvas Blueprint Script</td>\n",
       "      <td>2</td>\n",
       "      <td>1</td>\n",
       "      <td>Page</td>\n",
       "      <td>787806</td>\n",
       "      <td>NaN</td>\n",
       "      <td>NaN</td>\n",
       "      <td>LearningServicesStudentAPISandbox</td>\n",
       "    </tr>\n",
       "    <tr>\n",
       "      <th>3</th>\n",
       "      <td>2023-05-10 21:23:00</td>\n",
       "      <td>121654</td>\n",
       "      <td>787806</td>\n",
       "      <td>4</td>\n",
       "      <td>Scripting (current script instructions for LS ...</td>\n",
       "      <td>3</td>\n",
       "      <td>completed</td>\n",
       "      <td>NaN</td>\n",
       "      <td>93997</td>\n",
       "      <td>LtsStudentFive</td>\n",
       "      <td>5618863</td>\n",
       "      <td>How to Launch Jupyter Notebooks</td>\n",
       "      <td>3</td>\n",
       "      <td>1</td>\n",
       "      <td>File</td>\n",
       "      <td>787806</td>\n",
       "      <td>NaN</td>\n",
       "      <td>NaN</td>\n",
       "      <td>LearningServicesStudentAPISandbox</td>\n",
       "    </tr>\n",
       "    <tr>\n",
       "      <th>4</th>\n",
       "      <td>2023-05-10 21:23:00</td>\n",
       "      <td>121654</td>\n",
       "      <td>787806</td>\n",
       "      <td>4</td>\n",
       "      <td>Scripting (current script instructions for LS ...</td>\n",
       "      <td>3</td>\n",
       "      <td>completed</td>\n",
       "      <td>NaN</td>\n",
       "      <td>93997</td>\n",
       "      <td>LtsStudentFive</td>\n",
       "      <td>5618864</td>\n",
       "      <td>GitHub</td>\n",
       "      <td>4</td>\n",
       "      <td>1</td>\n",
       "      <td>Page</td>\n",
       "      <td>787806</td>\n",
       "      <td>NaN</td>\n",
       "      <td>NaN</td>\n",
       "      <td>LearningServicesStudentAPISandbox</td>\n",
       "    </tr>\n",
       "  </tbody>\n",
       "</table>\n",
       "</div>"
      ],
      "text/plain": [
       "         completed_at course_id module_id  items_count   \n",
       "0 2023-05-10 21:23:00    121654    787819            1  \\\n",
       "1 2023-05-10 21:23:00    121654    787806            4   \n",
       "2 2023-05-10 21:23:00    121654    787806            4   \n",
       "3 2023-05-10 21:23:00    121654    787806            4   \n",
       "4 2023-05-10 21:23:00    121654    787806            4   \n",
       "\n",
       "                                         module_name  module_position   \n",
       "0                    Get Started with the Canvas API                2  \\\n",
       "1  Scripting (current script instructions for LS ...                3   \n",
       "2  Scripting (current script instructions for LS ...                3   \n",
       "3  Scripting (current script instructions for LS ...                3   \n",
       "4  Scripting (current script instructions for LS ...                3   \n",
       "\n",
       "       state  unlock_at student_id     student_name items_id   \n",
       "0  completed        NaN      93997   LtsStudentFive  5619042  \\\n",
       "1  completed        NaN      93997   LtsStudentFive  5618861   \n",
       "2  completed        NaN      93997   LtsStudentFive  5618862   \n",
       "3  completed        NaN      93997   LtsStudentFive  5618863   \n",
       "4  completed        NaN      93997   LtsStudentFive  5618864   \n",
       "\n",
       "                            items_title  items_position  items_indent   \n",
       "0  CAPICO-API-usage-guidelines-v1.1.pdf               2             0  \\\n",
       "1        Procedures for Running Scripts               1             1   \n",
       "2              Canvas Blueprint Script                2             1   \n",
       "3       How to Launch Jupyter Notebooks               3             1   \n",
       "4                                GitHub               4             1   \n",
       "\n",
       "  items_type items_module_id item_cp_req_type item_cp_req_completed   \n",
       "0       File          787819              NaN                   NaN  \\\n",
       "1       Page          787806              NaN                   NaN   \n",
       "2       Page          787806              NaN                   NaN   \n",
       "3       File          787806              NaN                   NaN   \n",
       "4       Page          787806              NaN                   NaN   \n",
       "\n",
       "                         course_name  \n",
       "0  LearningServicesStudentAPISandbox  \n",
       "1  LearningServicesStudentAPISandbox  \n",
       "2  LearningServicesStudentAPISandbox  \n",
       "3  LearningServicesStudentAPISandbox  \n",
       "4  LearningServicesStudentAPISandbox  "
      ]
     },
     "execution_count": 177,
     "metadata": {},
     "output_type": "execute_result"
    }
   ],
   "source": [
    "# filter by module state as completed\n",
    "data_filteredby_state = data_filteredby_course[data_filteredby_course.state == 'completed']\n",
    "data_filteredby_state.head()"
   ]
  },
  {
   "cell_type": "code",
   "execution_count": 178,
   "id": "2b7441ae-a042-431a-89c3-93766991e9c4",
   "metadata": {},
   "outputs": [],
   "source": [
    "# Create column that computes the number of days from the set date say 1-Jan-2023"
   ]
  },
  {
   "cell_type": "code",
   "execution_count": 179,
   "id": "fa842a46-80e1-45d3-84f1-97cf689b17ac",
   "metadata": {},
   "outputs": [
    {
     "data": {
      "text/plain": [
       "0   2023-05-10 21:23:00\n",
       "1   2023-05-10 21:23:00\n",
       "2   2023-05-10 21:23:00\n",
       "3   2023-05-10 21:23:00\n",
       "4   2023-05-10 21:23:00\n",
       "Name: completed_at, dtype: datetime64[ns]"
      ]
     },
     "execution_count": 179,
     "metadata": {},
     "output_type": "execute_result"
    }
   ],
   "source": [
    "data_filteredby_state['completed_at'].head()"
   ]
  },
  {
   "cell_type": "code",
   "execution_count": null,
   "id": "0ae3d693-7d3e-44e4-90ea-c54a5e38be62",
   "metadata": {},
   "outputs": [],
   "source": []
  },
  {
   "cell_type": "code",
   "execution_count": 180,
   "id": "c737741a-ae38-4327-b4a8-a92b81acda26",
   "metadata": {},
   "outputs": [
    {
     "name": "stdout",
     "output_type": "stream",
     "text": [
      "2023-01-01 01:30:00\n"
     ]
    }
   ],
   "source": [
    "course_start_date = datetime.datetime(2023, 1, 1)\n",
    "course_start_time = datetime.time(1, 30)\n",
    "course_combined_datetime = course_start_date.combine(course_start_date, course_start_time)\n",
    "print(course_combined_datetime)"
   ]
  },
  {
   "cell_type": "code",
   "execution_count": 181,
   "id": "837b8b08-caab-4fb4-bd8f-a7ce5e5833da",
   "metadata": {},
   "outputs": [
    {
     "data": {
      "text/plain": [
       "0      82.171528\n",
       "1      82.171528\n",
       "2      82.171528\n",
       "3      82.171528\n",
       "4      82.171528\n",
       "23     68.198611\n",
       "24     68.198611\n",
       "25     68.198611\n",
       "26     68.198611\n",
       "27     68.198611\n",
       "46     75.325694\n",
       "47     75.325694\n",
       "48     75.325694\n",
       "49     75.325694\n",
       "50     75.325694\n",
       "51     68.197222\n",
       "52     68.197222\n",
       "53     68.197222\n",
       "54     68.197222\n",
       "55     68.197222\n",
       "56     68.197222\n",
       "57     68.197222\n",
       "69     75.325694\n",
       "70     75.325694\n",
       "71     75.325694\n",
       "72     75.325694\n",
       "73     75.325694\n",
       "92     75.325694\n",
       "93     75.325694\n",
       "94     75.325694\n",
       "95     75.325694\n",
       "96     75.325694\n",
       "97     69.272917\n",
       "98     69.272917\n",
       "99     69.272917\n",
       "100    69.272917\n",
       "101    69.272917\n",
       "102    69.272917\n",
       "103    69.272917\n",
       "104    69.272222\n",
       "105    69.272222\n",
       "106    69.272222\n",
       "107    69.272222\n",
       "108    69.272222\n",
       "109    69.272222\n",
       "110    68.198611\n",
       "111    68.198611\n",
       "112    68.198611\n",
       "113    68.198611\n",
       "114    68.198611\n",
       "Name: completed_at, dtype: float64"
      ]
     },
     "execution_count": 181,
     "metadata": {},
     "output_type": "execute_result"
    }
   ],
   "source": [
    "# difference in days\n",
    "(combined_datetime - data_filteredby_state['completed_at'])/np.timedelta64(1, 'D')"
   ]
  },
  {
   "cell_type": "code",
   "execution_count": 182,
   "id": "669217e0-a628-436c-bad7-dd90c380f5ce",
   "metadata": {},
   "outputs": [
    {
     "name": "stderr",
     "output_type": "stream",
     "text": [
      "C:\\Users\\ranji\\AppData\\Local\\Temp\\ipykernel_26508\\3389343505.py:1: SettingWithCopyWarning:\n",
      "\n",
      "\n",
      "A value is trying to be set on a copy of a slice from a DataFrame.\n",
      "Try using .loc[row_indexer,col_indexer] = value instead\n",
      "\n",
      "See the caveats in the documentation: https://pandas.pydata.org/pandas-docs/stable/user_guide/indexing.html#returning-a-view-versus-a-copy\n",
      "\n"
     ]
    }
   ],
   "source": [
    "data_filteredby_state['duration'] = round((combined_datetime - data_filteredby_state['completed_at'])/np.timedelta64(1, 'D'), 0)"
   ]
  },
  {
   "cell_type": "code",
   "execution_count": 183,
   "id": "6ebd5ab8-bd5e-43bc-a672-105d984cbccb",
   "metadata": {},
   "outputs": [
    {
     "data": {
      "text/plain": [
       "0      82.0\n",
       "1      82.0\n",
       "2      82.0\n",
       "3      82.0\n",
       "4      82.0\n",
       "23     68.0\n",
       "24     68.0\n",
       "25     68.0\n",
       "26     68.0\n",
       "27     68.0\n",
       "46     75.0\n",
       "47     75.0\n",
       "48     75.0\n",
       "49     75.0\n",
       "50     75.0\n",
       "51     68.0\n",
       "52     68.0\n",
       "53     68.0\n",
       "54     68.0\n",
       "55     68.0\n",
       "56     68.0\n",
       "57     68.0\n",
       "69     75.0\n",
       "70     75.0\n",
       "71     75.0\n",
       "72     75.0\n",
       "73     75.0\n",
       "92     75.0\n",
       "93     75.0\n",
       "94     75.0\n",
       "95     75.0\n",
       "96     75.0\n",
       "97     69.0\n",
       "98     69.0\n",
       "99     69.0\n",
       "100    69.0\n",
       "101    69.0\n",
       "102    69.0\n",
       "103    69.0\n",
       "104    69.0\n",
       "105    69.0\n",
       "106    69.0\n",
       "107    69.0\n",
       "108    69.0\n",
       "109    69.0\n",
       "110    68.0\n",
       "111    68.0\n",
       "112    68.0\n",
       "113    68.0\n",
       "114    68.0\n",
       "Name: duration, dtype: float64"
      ]
     },
     "execution_count": 183,
     "metadata": {},
     "output_type": "execute_result"
    }
   ],
   "source": [
    "data_filteredby_state['duration']"
   ]
  },
  {
   "cell_type": "code",
   "execution_count": 184,
   "id": "bc53eeb2-41e2-402e-913c-cbbfbcfc4563",
   "metadata": {},
   "outputs": [
    {
     "data": {
      "text/html": [
       "<div>\n",
       "<style scoped>\n",
       "    .dataframe tbody tr th:only-of-type {\n",
       "        vertical-align: middle;\n",
       "    }\n",
       "\n",
       "    .dataframe tbody tr th {\n",
       "        vertical-align: top;\n",
       "    }\n",
       "\n",
       "    .dataframe thead th {\n",
       "        text-align: right;\n",
       "    }\n",
       "</style>\n",
       "<table border=\"1\" class=\"dataframe\">\n",
       "  <thead>\n",
       "    <tr style=\"text-align: right;\">\n",
       "      <th></th>\n",
       "      <th>completed_at</th>\n",
       "      <th>course_id</th>\n",
       "      <th>module_id</th>\n",
       "      <th>items_count</th>\n",
       "      <th>module_name</th>\n",
       "      <th>module_position</th>\n",
       "      <th>state</th>\n",
       "      <th>unlock_at</th>\n",
       "      <th>student_id</th>\n",
       "      <th>student_name</th>\n",
       "      <th>items_id</th>\n",
       "      <th>items_title</th>\n",
       "      <th>items_position</th>\n",
       "      <th>items_indent</th>\n",
       "      <th>items_type</th>\n",
       "      <th>items_module_id</th>\n",
       "      <th>item_cp_req_type</th>\n",
       "      <th>item_cp_req_completed</th>\n",
       "      <th>course_name</th>\n",
       "      <th>duration</th>\n",
       "    </tr>\n",
       "  </thead>\n",
       "  <tbody>\n",
       "    <tr>\n",
       "      <th>0</th>\n",
       "      <td>2023-05-10 21:23:00</td>\n",
       "      <td>121654</td>\n",
       "      <td>787819</td>\n",
       "      <td>1</td>\n",
       "      <td>Get Started with the Canvas API</td>\n",
       "      <td>2</td>\n",
       "      <td>completed</td>\n",
       "      <td>NaN</td>\n",
       "      <td>93997</td>\n",
       "      <td>LtsStudentFive</td>\n",
       "      <td>5619042</td>\n",
       "      <td>CAPICO-API-usage-guidelines-v1.1.pdf</td>\n",
       "      <td>2</td>\n",
       "      <td>0</td>\n",
       "      <td>File</td>\n",
       "      <td>787819</td>\n",
       "      <td>NaN</td>\n",
       "      <td>NaN</td>\n",
       "      <td>LearningServicesStudentAPISandbox</td>\n",
       "      <td>82.0</td>\n",
       "    </tr>\n",
       "    <tr>\n",
       "      <th>1</th>\n",
       "      <td>2023-05-10 21:23:00</td>\n",
       "      <td>121654</td>\n",
       "      <td>787806</td>\n",
       "      <td>4</td>\n",
       "      <td>Scripting (current script instructions for LS ...</td>\n",
       "      <td>3</td>\n",
       "      <td>completed</td>\n",
       "      <td>NaN</td>\n",
       "      <td>93997</td>\n",
       "      <td>LtsStudentFive</td>\n",
       "      <td>5618861</td>\n",
       "      <td>Procedures for Running Scripts</td>\n",
       "      <td>1</td>\n",
       "      <td>1</td>\n",
       "      <td>Page</td>\n",
       "      <td>787806</td>\n",
       "      <td>NaN</td>\n",
       "      <td>NaN</td>\n",
       "      <td>LearningServicesStudentAPISandbox</td>\n",
       "      <td>82.0</td>\n",
       "    </tr>\n",
       "    <tr>\n",
       "      <th>2</th>\n",
       "      <td>2023-05-10 21:23:00</td>\n",
       "      <td>121654</td>\n",
       "      <td>787806</td>\n",
       "      <td>4</td>\n",
       "      <td>Scripting (current script instructions for LS ...</td>\n",
       "      <td>3</td>\n",
       "      <td>completed</td>\n",
       "      <td>NaN</td>\n",
       "      <td>93997</td>\n",
       "      <td>LtsStudentFive</td>\n",
       "      <td>5618862</td>\n",
       "      <td>Canvas Blueprint Script</td>\n",
       "      <td>2</td>\n",
       "      <td>1</td>\n",
       "      <td>Page</td>\n",
       "      <td>787806</td>\n",
       "      <td>NaN</td>\n",
       "      <td>NaN</td>\n",
       "      <td>LearningServicesStudentAPISandbox</td>\n",
       "      <td>82.0</td>\n",
       "    </tr>\n",
       "    <tr>\n",
       "      <th>3</th>\n",
       "      <td>2023-05-10 21:23:00</td>\n",
       "      <td>121654</td>\n",
       "      <td>787806</td>\n",
       "      <td>4</td>\n",
       "      <td>Scripting (current script instructions for LS ...</td>\n",
       "      <td>3</td>\n",
       "      <td>completed</td>\n",
       "      <td>NaN</td>\n",
       "      <td>93997</td>\n",
       "      <td>LtsStudentFive</td>\n",
       "      <td>5618863</td>\n",
       "      <td>How to Launch Jupyter Notebooks</td>\n",
       "      <td>3</td>\n",
       "      <td>1</td>\n",
       "      <td>File</td>\n",
       "      <td>787806</td>\n",
       "      <td>NaN</td>\n",
       "      <td>NaN</td>\n",
       "      <td>LearningServicesStudentAPISandbox</td>\n",
       "      <td>82.0</td>\n",
       "    </tr>\n",
       "    <tr>\n",
       "      <th>4</th>\n",
       "      <td>2023-05-10 21:23:00</td>\n",
       "      <td>121654</td>\n",
       "      <td>787806</td>\n",
       "      <td>4</td>\n",
       "      <td>Scripting (current script instructions for LS ...</td>\n",
       "      <td>3</td>\n",
       "      <td>completed</td>\n",
       "      <td>NaN</td>\n",
       "      <td>93997</td>\n",
       "      <td>LtsStudentFive</td>\n",
       "      <td>5618864</td>\n",
       "      <td>GitHub</td>\n",
       "      <td>4</td>\n",
       "      <td>1</td>\n",
       "      <td>Page</td>\n",
       "      <td>787806</td>\n",
       "      <td>NaN</td>\n",
       "      <td>NaN</td>\n",
       "      <td>LearningServicesStudentAPISandbox</td>\n",
       "      <td>82.0</td>\n",
       "    </tr>\n",
       "  </tbody>\n",
       "</table>\n",
       "</div>"
      ],
      "text/plain": [
       "         completed_at course_id module_id  items_count   \n",
       "0 2023-05-10 21:23:00    121654    787819            1  \\\n",
       "1 2023-05-10 21:23:00    121654    787806            4   \n",
       "2 2023-05-10 21:23:00    121654    787806            4   \n",
       "3 2023-05-10 21:23:00    121654    787806            4   \n",
       "4 2023-05-10 21:23:00    121654    787806            4   \n",
       "\n",
       "                                         module_name  module_position   \n",
       "0                    Get Started with the Canvas API                2  \\\n",
       "1  Scripting (current script instructions for LS ...                3   \n",
       "2  Scripting (current script instructions for LS ...                3   \n",
       "3  Scripting (current script instructions for LS ...                3   \n",
       "4  Scripting (current script instructions for LS ...                3   \n",
       "\n",
       "       state  unlock_at student_id     student_name items_id   \n",
       "0  completed        NaN      93997   LtsStudentFive  5619042  \\\n",
       "1  completed        NaN      93997   LtsStudentFive  5618861   \n",
       "2  completed        NaN      93997   LtsStudentFive  5618862   \n",
       "3  completed        NaN      93997   LtsStudentFive  5618863   \n",
       "4  completed        NaN      93997   LtsStudentFive  5618864   \n",
       "\n",
       "                            items_title  items_position  items_indent   \n",
       "0  CAPICO-API-usage-guidelines-v1.1.pdf               2             0  \\\n",
       "1        Procedures for Running Scripts               1             1   \n",
       "2              Canvas Blueprint Script                2             1   \n",
       "3       How to Launch Jupyter Notebooks               3             1   \n",
       "4                                GitHub               4             1   \n",
       "\n",
       "  items_type items_module_id item_cp_req_type item_cp_req_completed   \n",
       "0       File          787819              NaN                   NaN  \\\n",
       "1       Page          787806              NaN                   NaN   \n",
       "2       Page          787806              NaN                   NaN   \n",
       "3       File          787806              NaN                   NaN   \n",
       "4       Page          787806              NaN                   NaN   \n",
       "\n",
       "                         course_name  duration  \n",
       "0  LearningServicesStudentAPISandbox      82.0  \n",
       "1  LearningServicesStudentAPISandbox      82.0  \n",
       "2  LearningServicesStudentAPISandbox      82.0  \n",
       "3  LearningServicesStudentAPISandbox      82.0  \n",
       "4  LearningServicesStudentAPISandbox      82.0  "
      ]
     },
     "execution_count": 184,
     "metadata": {},
     "output_type": "execute_result"
    }
   ],
   "source": [
    "data_filteredby_state.head()"
   ]
  },
  {
   "cell_type": "code",
   "execution_count": 185,
   "id": "18ee5715-5145-4f00-8fd2-3e24819ed14a",
   "metadata": {},
   "outputs": [],
   "source": [
    "# Next we want to keep only one unique row per student, thereby there are no repetition for the same student. \n",
    "# This is important because repetitiion will influence the percentile computation\n",
    "# Remember for the same moduel there are multiple rows equivalent to the number of items within the module.\n",
    "\n",
    "data_filteredby_state = data_filteredby_state[['module_id', 'module_name', 'state', 'duration', 'student_id']].drop_duplicates()"
   ]
  },
  {
   "cell_type": "code",
   "execution_count": 186,
   "id": "f5413b06-86a1-4651-8a12-4e0455c462a9",
   "metadata": {},
   "outputs": [],
   "source": [
    "# Ensure that module id is considered as string and not a number\n",
    "data_filteredby_state['module_id'] = data_filteredby_state['module_id'].astype(str)"
   ]
  },
  {
   "cell_type": "code",
   "execution_count": 188,
   "id": "b9640170-bba8-42dd-abb0-334b4ec0f654",
   "metadata": {},
   "outputs": [
    {
     "data": {
      "text/html": [
       "<iframe\n",
       "    scrolling=\"no\"\n",
       "    width=\"100%\"\n",
       "    height=\"545px\"\n",
       "    src=\"iframe_figures/figure_188.html\"\n",
       "    frameborder=\"0\"\n",
       "    allowfullscreen\n",
       "></iframe>\n"
      ]
     },
     "metadata": {},
     "output_type": "display_data"
    }
   ],
   "source": [
    "# Make the boxp lot\n",
    "\n",
    "# Create the box plot using Plotly Express\n",
    "fig = px.box(data_filteredby_state, x='module_id', y='duration', points='all', title='Module Completion Duration',\n",
    "             hover_data=['duration'])\n",
    "\n",
    "# Update the box plot to show mean and percentiles\n",
    "fig.update_traces(boxpoints='outliers', boxmean=True) #, meanline_visible=True)\n",
    "\n",
    "# Show the plot\n",
    "fig.show()\n"
   ]
  },
  {
   "cell_type": "code",
   "execution_count": 200,
   "id": "2c88e5dd-f8f3-43ec-93b7-87c311781703",
   "metadata": {},
   "outputs": [
    {
     "data": {
      "text/html": [
       "<div>\n",
       "<style scoped>\n",
       "    .dataframe tbody tr th:only-of-type {\n",
       "        vertical-align: middle;\n",
       "    }\n",
       "\n",
       "    .dataframe tbody tr th {\n",
       "        vertical-align: top;\n",
       "    }\n",
       "\n",
       "    .dataframe thead th {\n",
       "        text-align: right;\n",
       "    }\n",
       "</style>\n",
       "<table border=\"1\" class=\"dataframe\">\n",
       "  <thead>\n",
       "    <tr style=\"text-align: right;\">\n",
       "      <th></th>\n",
       "      <th>module_id</th>\n",
       "      <th>module_name</th>\n",
       "      <th>state</th>\n",
       "      <th>duration</th>\n",
       "      <th>student_id</th>\n",
       "    </tr>\n",
       "  </thead>\n",
       "  <tbody>\n",
       "    <tr>\n",
       "      <th>69</th>\n",
       "      <td>787819</td>\n",
       "      <td>Get Started with the Canvas API</td>\n",
       "      <td>completed</td>\n",
       "      <td>75.0</td>\n",
       "      <td>93991</td>\n",
       "    </tr>\n",
       "    <tr>\n",
       "      <th>70</th>\n",
       "      <td>787806</td>\n",
       "      <td>Scripting (current script instructions for LS ...</td>\n",
       "      <td>completed</td>\n",
       "      <td>75.0</td>\n",
       "      <td>93991</td>\n",
       "    </tr>\n",
       "    <tr>\n",
       "      <th>92</th>\n",
       "      <td>787819</td>\n",
       "      <td>Get Started with the Canvas API</td>\n",
       "      <td>completed</td>\n",
       "      <td>75.0</td>\n",
       "      <td>93992</td>\n",
       "    </tr>\n",
       "    <tr>\n",
       "      <th>93</th>\n",
       "      <td>787806</td>\n",
       "      <td>Scripting (current script instructions for LS ...</td>\n",
       "      <td>completed</td>\n",
       "      <td>75.0</td>\n",
       "      <td>93992</td>\n",
       "    </tr>\n",
       "    <tr>\n",
       "      <th>97</th>\n",
       "      <td>790496</td>\n",
       "      <td>Data Science Introduction</td>\n",
       "      <td>completed</td>\n",
       "      <td>69.0</td>\n",
       "      <td>93992</td>\n",
       "    </tr>\n",
       "    <tr>\n",
       "      <th>104</th>\n",
       "      <td>790743</td>\n",
       "      <td>Data Science Disciplines</td>\n",
       "      <td>completed</td>\n",
       "      <td>69.0</td>\n",
       "      <td>93992</td>\n",
       "    </tr>\n",
       "    <tr>\n",
       "      <th>110</th>\n",
       "      <td>790744</td>\n",
       "      <td>Probability and Statistics</td>\n",
       "      <td>completed</td>\n",
       "      <td>68.0</td>\n",
       "      <td>93992</td>\n",
       "    </tr>\n",
       "    <tr>\n",
       "      <th>46</th>\n",
       "      <td>787819</td>\n",
       "      <td>Get Started with the Canvas API</td>\n",
       "      <td>completed</td>\n",
       "      <td>75.0</td>\n",
       "      <td>93994</td>\n",
       "    </tr>\n",
       "    <tr>\n",
       "      <th>47</th>\n",
       "      <td>787806</td>\n",
       "      <td>Scripting (current script instructions for LS ...</td>\n",
       "      <td>completed</td>\n",
       "      <td>75.0</td>\n",
       "      <td>93994</td>\n",
       "    </tr>\n",
       "    <tr>\n",
       "      <th>51</th>\n",
       "      <td>790496</td>\n",
       "      <td>Data Science Introduction</td>\n",
       "      <td>completed</td>\n",
       "      <td>68.0</td>\n",
       "      <td>93994</td>\n",
       "    </tr>\n",
       "    <tr>\n",
       "      <th>23</th>\n",
       "      <td>787819</td>\n",
       "      <td>Get Started with the Canvas API</td>\n",
       "      <td>completed</td>\n",
       "      <td>68.0</td>\n",
       "      <td>93995</td>\n",
       "    </tr>\n",
       "    <tr>\n",
       "      <th>24</th>\n",
       "      <td>787806</td>\n",
       "      <td>Scripting (current script instructions for LS ...</td>\n",
       "      <td>completed</td>\n",
       "      <td>68.0</td>\n",
       "      <td>93995</td>\n",
       "    </tr>\n",
       "    <tr>\n",
       "      <th>0</th>\n",
       "      <td>787819</td>\n",
       "      <td>Get Started with the Canvas API</td>\n",
       "      <td>completed</td>\n",
       "      <td>82.0</td>\n",
       "      <td>93997</td>\n",
       "    </tr>\n",
       "    <tr>\n",
       "      <th>1</th>\n",
       "      <td>787806</td>\n",
       "      <td>Scripting (current script instructions for LS ...</td>\n",
       "      <td>completed</td>\n",
       "      <td>82.0</td>\n",
       "      <td>93997</td>\n",
       "    </tr>\n",
       "  </tbody>\n",
       "</table>\n",
       "</div>"
      ],
      "text/plain": [
       "    module_id                                        module_name      state   \n",
       "69     787819                    Get Started with the Canvas API  completed  \\\n",
       "70     787806  Scripting (current script instructions for LS ...  completed   \n",
       "92     787819                    Get Started with the Canvas API  completed   \n",
       "93     787806  Scripting (current script instructions for LS ...  completed   \n",
       "97     790496                          Data Science Introduction  completed   \n",
       "104    790743                           Data Science Disciplines  completed   \n",
       "110    790744                         Probability and Statistics  completed   \n",
       "46     787819                    Get Started with the Canvas API  completed   \n",
       "47     787806  Scripting (current script instructions for LS ...  completed   \n",
       "51     790496                          Data Science Introduction  completed   \n",
       "23     787819                    Get Started with the Canvas API  completed   \n",
       "24     787806  Scripting (current script instructions for LS ...  completed   \n",
       "0      787819                    Get Started with the Canvas API  completed   \n",
       "1      787806  Scripting (current script instructions for LS ...  completed   \n",
       "\n",
       "     duration student_id  \n",
       "69       75.0      93991  \n",
       "70       75.0      93991  \n",
       "92       75.0      93992  \n",
       "93       75.0      93992  \n",
       "97       69.0      93992  \n",
       "104      69.0      93992  \n",
       "110      68.0      93992  \n",
       "46       75.0      93994  \n",
       "47       75.0      93994  \n",
       "51       68.0      93994  \n",
       "23       68.0      93995  \n",
       "24       68.0      93995  \n",
       "0        82.0      93997  \n",
       "1        82.0      93997  "
      ]
     },
     "execution_count": 200,
     "metadata": {},
     "output_type": "execute_result"
    }
   ],
   "source": [
    "data_filteredby_state.sort_values('student_id')"
   ]
  },
  {
   "cell_type": "code",
   "execution_count": 198,
   "id": "0ce32181-c925-4bb5-a16f-41c1c719ec71",
   "metadata": {},
   "outputs": [
    {
     "name": "stdout",
     "output_type": "stream",
     "text": [
      "<pandas.core.groupby.generic.SeriesGroupBy object at 0x00000249836C3430>\n"
     ]
    }
   ],
   "source": [
    "print(data_filteredby_state.groupby(['student_id', 'module_id'])['duration'])"
   ]
  },
  {
   "cell_type": "code",
   "execution_count": null,
   "id": "f3a5c03b-bb34-49f6-825e-3666323b2d85",
   "metadata": {},
   "outputs": [],
   "source": []
  }
 ],
 "metadata": {
  "kernelspec": {
   "display_name": "Python [conda env:dash]",
   "language": "python",
   "name": "conda-env-dash-py"
  },
  "language_info": {
   "codemirror_mode": {
    "name": "ipython",
    "version": 3
   },
   "file_extension": ".py",
   "mimetype": "text/x-python",
   "name": "python",
   "nbconvert_exporter": "python",
   "pygments_lexer": "ipython3",
   "version": "3.9.16"
  }
 },
 "nbformat": 4,
 "nbformat_minor": 5
}

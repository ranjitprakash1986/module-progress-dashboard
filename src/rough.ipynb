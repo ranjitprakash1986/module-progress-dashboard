{
 "cells": [
  {
   "cell_type": "code",
   "execution_count": 1,
   "id": "4d504247-0193-4a66-a7f7-ac323e489ead",
   "metadata": {
    "jp-MarkdownHeadingCollapsed": true,
    "tags": []
   },
   "outputs": [
    {
     "data": {
      "text/html": [
       "<iframe\n",
       "    scrolling=\"no\"\n",
       "    width=\"100%\"\n",
       "    height=\"545px\"\n",
       "    src=\"iframe_figures/figure_11.html\"\n",
       "    frameborder=\"0\"\n",
       "    allowfullscreen\n",
       "></iframe>\n"
      ]
     },
     "metadata": {},
     "output_type": "display_data"
    }
   ],
   "source": [
    "import pandas as pd\n",
    "import plotly.express as px\n",
    "import plotly.io as pio\n",
    "pio.renderers.default='iframe'\n",
    "\n",
    "# Create a sample DataFrame\n",
    "df = pd.DataFrame({'Student ID': [1, 2, 3, 4, 5],\n",
    "                   'Module 1': [80, 90, 70, 60, 85],\n",
    "                   'Module 2': [70, 85, 75, 80, 90],\n",
    "                   'Module 3': [95, 75, 80, 85, 70]})\n",
    "\n",
    "# Calculate the percentage completion for each module by students\n",
    "df['Module 1 (%)'] = df['Module 1'] / 100 * 100\n",
    "df['Module 2 (%)'] = df['Module 2'] / 100 * 100\n",
    "df['Module 3 (%)'] = df['Module 3'] / 100 * 100\n",
    "\n",
    "# Melt the DataFrame to convert columns to rows\n",
    "melted_df = pd.melt(df, id_vars='Student ID', value_vars=['Module 1 (%)', 'Module 2 (%)', 'Module 3 (%)'],\n",
    "                    var_name='Module', value_name='Percentage Completion')\n",
    "\n",
    "# Create a horizontal bar chart using Plotly\n",
    "fig = px.bar(melted_df, y='Module', x='Percentage Completion', color='Student ID', orientation='h',\n",
    "             labels={'Percentage Completion': 'Percentage Completion (%)'},\n",
    "             title='Percentage Completion by Students for Each Module')\n",
    "\n",
    "fig.show()"
   ]
  },
  {
   "cell_type": "code",
   "execution_count": null,
   "id": "dbdf47fa-68fb-4f7e-898c-4c49f6a73ebd",
   "metadata": {},
   "outputs": [],
   "source": []
  },
  {
   "cell_type": "code",
   "execution_count": null,
   "id": "7b82f5b8-e247-4d56-a9ae-68c99fc59746",
   "metadata": {},
   "outputs": [],
   "source": []
  }
 ],
 "metadata": {
  "kernelspec": {
   "display_name": "Python [conda env:mds574]",
   "language": "python",
   "name": "conda-env-mds574-py"
  },
  "language_info": {
   "codemirror_mode": {
    "name": "ipython",
    "version": 3
   },
   "file_extension": ".py",
   "mimetype": "text/x-python",
   "name": "python",
   "nbconvert_exporter": "python",
   "pygments_lexer": "ipython3",
   "version": "3.10.9"
  }
 },
 "nbformat": 4,
 "nbformat_minor": 5
}
